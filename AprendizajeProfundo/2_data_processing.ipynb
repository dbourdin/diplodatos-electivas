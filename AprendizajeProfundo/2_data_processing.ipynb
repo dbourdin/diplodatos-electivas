{
 "cells": [
  {
   "cell_type": "markdown",
   "metadata": {},
   "source": [
    "# Procesamiento de datos usando Tensorflow\n",
    "\n",
    "Cuando trabajamos con Tensorflow, existen una gran variedad de formas en las que podemos alimentar los datos a nuestra red neuronal. Esto también tiene que ver con el tipo de datos y los pasos de pre-procesamiento que sean necesarios.\n",
    "\n",
    "En la notebook 1 se utilizó un conjunto de datos de imágenes, esencialmente con variables numéricas. En esta notebook trabajemos con datos categóricos y profundizaremos en cómo trasformar los ejemplos dentro del pipeline de clasificación.\n",
    "\n",
    "Ante un problema de clasificación, lo primero que debemos hacer es **inspeccionar los datos y construir un prototipo de modelo**. La forma más fácil de hacerlo es con notebooks. Sin embargo, a la hora de llevar a cabo experimentos con redes neuronales, un entorno interactivo puede no ser la mejor opción. En primer lugar, explorar los hiperparámetros de una arquitectura neuronal puede llevar varias horas e incluso días, perdiendo todas las ventajas del entorno interactivo. En segundo lugar, no podemos encolar ejecuciones de notebooks para reservar recursos como las GPUs.\n",
    "\n",
    "Por ello, primero realizaremos una exploración inicial de los datos en esta notebook. Una vez que decidamos qué tipo de modelo implementar, pasaremos el modelo a un script de python que cargue los datos, construya el modelo, lo entrene, y finalmente guarde las métricas relevantes.\n",
    "\n",
    "En esta notebook, veremos varios conceptos avanzados de entrenamiento de redes:\n",
    "\n",
    "  * Uso de `tf.data.Dataset` para optimizar la ingesta de datos. \n",
    "  * Uso de capas `tf.layers.Embedding`.\n",
    "  * Combinación de distintos tipos de features en un mismo modelo con múltiples inputs.\n",
    "  * MLFlow para registro de experimentos"
   ]
  },
  {
   "cell_type": "code",
   "execution_count": 1,
   "metadata": {},
   "outputs": [],
   "source": [
    "import os\n",
    "import numpy\n",
    "import pandas\n",
    "import seaborn\n",
    "from sklearn.preprocessing import MinMaxScaler\n",
    "seaborn.set_style('whitegrid')\n",
    "seaborn.set_palette('colorblind')\n",
    "seaborn.set_context('paper')"
   ]
  },
  {
   "cell_type": "markdown",
   "metadata": {},
   "source": [
    "## Cargando los datos\n",
    "\n",
    "Una vez más, estaremos trabajando con el conjunto de datos `petfinder`. Deben descargarlo siguiendo las instrucciones en la [notebook 0](./0_set_up.ipynb), descomprimirlo y luego ajustar la dirección en esta notebook según corresponda. \n",
    "\n",
    "Algunas de las preguntas que respondemos durante esta etapa son:\n",
    "\n",
    " * ¿Qué tipo de tarea tengo que resolver? ¿Clasificación o regresión?\n",
    " * ¿Qué distribución tienen mis etiquetas?\n",
    " * ¿Qué tipo de datos tengo disponible para la clasificación? ¿Cuáles son útiles?\n",
    " * Dadas las características disponibles y el problema que quiero resolver, ¿qué tipo de clasificador o arquitectura conviene utilizar? ¿De qué manera se están representando las causas latentes del problema en el modelo elegido?\n",
    " * Dadas las características disponibles y el modelo elegido, ¿de qué forma representaremos cada una de dichas características?\n",
    " \n",
    "En esta clase utilizaremos redes neuronales como modelos porque es el objetivo de la materia, pero sigue siendo importante qué aspectos podremos capturar con este tipo de modelo, especialmente para tener intuiciones sobre qué hiperparámetros explorar."
   ]
  },
  {
   "cell_type": "code",
   "execution_count": 2,
   "metadata": {},
   "outputs": [],
   "source": [
    "DATA_DIRECTORY = 'petfinder_dataset/'"
   ]
  },
  {
   "cell_type": "code",
   "execution_count": 3,
   "metadata": {},
   "outputs": [],
   "source": [
    "# Take a sample of data\n",
    "\n",
    "from sklearn.model_selection import train_test_split\n",
    "\n",
    "dataset, dev_dataset = train_test_split(\n",
    "    pandas.read_csv(os.path.join(DATA_DIRECTORY, 'train.csv')), test_size=0.2)"
   ]
  },
  {
   "cell_type": "code",
   "execution_count": 4,
   "metadata": {},
   "outputs": [
    {
     "data": {
      "text/html": [
       "<div>\n",
       "<style scoped>\n",
       "    .dataframe tbody tr th:only-of-type {\n",
       "        vertical-align: middle;\n",
       "    }\n",
       "\n",
       "    .dataframe tbody tr th {\n",
       "        vertical-align: top;\n",
       "    }\n",
       "\n",
       "    .dataframe thead th {\n",
       "        text-align: right;\n",
       "    }\n",
       "</style>\n",
       "<table border=\"1\" class=\"dataframe\">\n",
       "  <thead>\n",
       "    <tr style=\"text-align: right;\">\n",
       "      <th></th>\n",
       "      <th>Type</th>\n",
       "      <th>Age</th>\n",
       "      <th>Breed1</th>\n",
       "      <th>Breed2</th>\n",
       "      <th>Gender</th>\n",
       "      <th>Color1</th>\n",
       "      <th>Color2</th>\n",
       "      <th>Color3</th>\n",
       "      <th>MaturitySize</th>\n",
       "      <th>FurLength</th>\n",
       "      <th>Vaccinated</th>\n",
       "      <th>Dewormed</th>\n",
       "      <th>Sterilized</th>\n",
       "      <th>Health</th>\n",
       "      <th>Quantity</th>\n",
       "      <th>Fee</th>\n",
       "      <th>State</th>\n",
       "      <th>Description</th>\n",
       "      <th>AdoptionSpeed</th>\n",
       "      <th>PID</th>\n",
       "    </tr>\n",
       "  </thead>\n",
       "  <tbody>\n",
       "    <tr>\n",
       "      <th>7353</th>\n",
       "      <td>1</td>\n",
       "      <td>1</td>\n",
       "      <td>307</td>\n",
       "      <td>0</td>\n",
       "      <td>1</td>\n",
       "      <td>1</td>\n",
       "      <td>2</td>\n",
       "      <td>0</td>\n",
       "      <td>2</td>\n",
       "      <td>1</td>\n",
       "      <td>2</td>\n",
       "      <td>2</td>\n",
       "      <td>2</td>\n",
       "      <td>1</td>\n",
       "      <td>3</td>\n",
       "      <td>0</td>\n",
       "      <td>41401</td>\n",
       "      <td>mixed breed rottweiler-6 weeks (3 males same c...</td>\n",
       "      <td>1</td>\n",
       "      <td>10341</td>\n",
       "    </tr>\n",
       "    <tr>\n",
       "      <th>3771</th>\n",
       "      <td>1</td>\n",
       "      <td>12</td>\n",
       "      <td>307</td>\n",
       "      <td>0</td>\n",
       "      <td>2</td>\n",
       "      <td>2</td>\n",
       "      <td>0</td>\n",
       "      <td>0</td>\n",
       "      <td>1</td>\n",
       "      <td>1</td>\n",
       "      <td>1</td>\n",
       "      <td>1</td>\n",
       "      <td>2</td>\n",
       "      <td>1</td>\n",
       "      <td>1</td>\n",
       "      <td>0</td>\n",
       "      <td>41326</td>\n",
       "      <td>Rescued at the Esso Petrol Station near TK1 Pu...</td>\n",
       "      <td>4</td>\n",
       "      <td>5339</td>\n",
       "    </tr>\n",
       "    <tr>\n",
       "      <th>7364</th>\n",
       "      <td>2</td>\n",
       "      <td>4</td>\n",
       "      <td>254</td>\n",
       "      <td>265</td>\n",
       "      <td>2</td>\n",
       "      <td>1</td>\n",
       "      <td>3</td>\n",
       "      <td>7</td>\n",
       "      <td>2</td>\n",
       "      <td>2</td>\n",
       "      <td>2</td>\n",
       "      <td>2</td>\n",
       "      <td>2</td>\n",
       "      <td>1</td>\n",
       "      <td>1</td>\n",
       "      <td>0</td>\n",
       "      <td>41326</td>\n",
       "      <td>Spunky and cheeky calico kitten searching for ...</td>\n",
       "      <td>1</td>\n",
       "      <td>10357</td>\n",
       "    </tr>\n",
       "  </tbody>\n",
       "</table>\n",
       "</div>"
      ],
      "text/plain": [
       "      Type  Age  Breed1  Breed2  Gender  Color1  Color2  Color3  MaturitySize  \\\n",
       "7353     1    1     307       0       1       1       2       0             2   \n",
       "3771     1   12     307       0       2       2       0       0             1   \n",
       "7364     2    4     254     265       2       1       3       7             2   \n",
       "\n",
       "      FurLength  Vaccinated  Dewormed  Sterilized  Health  Quantity  Fee  \\\n",
       "7353          1           2         2           2       1         3    0   \n",
       "3771          1           1         1           2       1         1    0   \n",
       "7364          2           2         2           2       1         1    0   \n",
       "\n",
       "      State                                        Description  AdoptionSpeed  \\\n",
       "7353  41401  mixed breed rottweiler-6 weeks (3 males same c...              1   \n",
       "3771  41326  Rescued at the Esso Petrol Station near TK1 Pu...              4   \n",
       "7364  41326  Spunky and cheeky calico kitten searching for ...              1   \n",
       "\n",
       "        PID  \n",
       "7353  10341  \n",
       "3771   5339  \n",
       "7364  10357  "
      ]
     },
     "execution_count": 4,
     "metadata": {},
     "output_type": "execute_result"
    }
   ],
   "source": [
    "dataset[:3]"
   ]
  },
  {
   "cell_type": "markdown",
   "metadata": {},
   "source": [
    "### Tipos de datos"
   ]
  },
  {
   "cell_type": "code",
   "execution_count": 5,
   "metadata": {
    "scrolled": true
   },
   "outputs": [
    {
     "data": {
      "text/plain": [
       "Type              int64\n",
       "Age               int64\n",
       "Breed1            int64\n",
       "Breed2            int64\n",
       "Gender            int64\n",
       "Color1            int64\n",
       "Color2            int64\n",
       "Color3            int64\n",
       "MaturitySize      int64\n",
       "FurLength         int64\n",
       "Vaccinated        int64\n",
       "Dewormed          int64\n",
       "Sterilized        int64\n",
       "Health            int64\n",
       "Quantity          int64\n",
       "Fee               int64\n",
       "State             int64\n",
       "Description      object\n",
       "AdoptionSpeed     int64\n",
       "PID               int64\n",
       "dtype: object"
      ]
     },
     "execution_count": 5,
     "metadata": {},
     "output_type": "execute_result"
    }
   ],
   "source": [
    "dataset.dtypes"
   ]
  },
  {
   "cell_type": "code",
   "execution_count": 6,
   "metadata": {},
   "outputs": [],
   "source": [
    "target_col = 'AdoptionSpeed'\n",
    "nlabels = dataset[target_col].unique().shape[0]"
   ]
  },
  {
   "cell_type": "markdown",
   "metadata": {},
   "source": [
    "### Distribución de las etiquetas"
   ]
  },
  {
   "cell_type": "code",
   "execution_count": 7,
   "metadata": {},
   "outputs": [
    {
     "data": {
      "image/png": "[encoded data removed]",
      "text/plain": [
       "<Figure size 432x288 with 1 Axes>"
      ]
     },
     "metadata": {
      "needs_background": "light"
     },
     "output_type": "display_data"
    }
   ],
   "source": [
    "seaborn.countplot(dataset.AdoptionSpeed, color='blue')\n",
    "seaborn.despine()"
   ]
  },
  {
   "cell_type": "markdown",
   "metadata": {},
   "source": [
    "https://www.tensorflow.org/tutorials/load_data/pandas_dataframe\n",
    "\n",
    "https://www.tensorflow.org/tutorials/structured_data/feature_columns\n",
    "\n",
    "Why not to use feature_columns https://github.com/tensorflow/tensorflow/issues/27895\n",
    "\n",
    "feature_columns doc 2.0 https://www.tensorflow.org/api_docs/python/tf/feature_column"
   ]
  },
  {
   "cell_type": "code",
   "execution_count": 8,
   "metadata": {},
   "outputs": [],
   "source": [
    "try:\n",
    "    # %tensorflow_version only exists in Colab.\n",
    "    %tensorflow_version 2.x\n",
    "except Exception:\n",
    "    pass\n",
    "import tensorflow as tf\n",
    "\n",
    "from tensorflow.keras import layers, models"
   ]
  },
  {
   "cell_type": "code",
   "execution_count": 9,
   "metadata": {},
   "outputs": [],
   "source": [
    "# Seteamos los valores de las semillas\n",
    "numpy.random.seed(1234)\n",
    "tf.random.set_seed(1234)"
   ]
  },
  {
   "cell_type": "markdown",
   "metadata": {},
   "source": [
    "## Creando las representaciones"
   ]
  },
  {
   "cell_type": "markdown",
   "metadata": {},
   "source": [
    "Tenemos una serie de variables categóricas y ordinales que pueden ser útiles para predecir la velocidad de adopción. Para cada una de ellas, tenemos que pensar cuál es la mejor forma de pasarla como input a la red. Analizaremos algunas de ellas:\n",
    "\n",
    "  * `Age` es una variable numérica discreta, podemos representarla con una única neurona con el valor original. Es muy importante normalizar este tipo de variables.\n",
    "  * `Gender` es una variable categórica. Como la variable tiene pocos valores, utilizaremos un *one-hot encoding* como representación.\n",
    "  * `Breed1` es una variable categórica que puede tomar muchos valores. Podemos utilizar *one-hot encoding*, lo cual resultará en vectores esparsos de dimensión cercana a 300. Alternativamente, podemos utilizar una capa de embedding para representar sus valores con un vector denso de baja dimesionalidad. Pregunta: ¿qué información podrá capturar este embedding?"
   ]
  },
  {
   "cell_type": "markdown",
   "metadata": {},
   "source": [
    "Una vez que definimos cómo vamos a representar cada una de las columnas, las pre-procesamos para formar un numpy array. En este caso, procesaremos el dataset completo porque estamos seguros de que entrará en memoria. En otros casos, puede ser necesario un pre-procesamiento por batches, o incluso utilizar las funciones de Tensorflow incluidas en el módulo `feature_column`.\n",
    "\n",
    "NOTA: para este ejercicio, intentamos utilizar `feature_column` pero causaba que la loss diverga. La documentación no ha sido totalmente actualizada a Tensorflow 2.0, y puede ser que nos encontremos ante un error de cambio de versiones. Pueden encontrar más ejemplos en [este link](https://www.tensorflow.org/tutorials/structured_data/feature_columns)."
   ]
  },
  {
   "cell_type": "code",
   "execution_count": 10,
   "metadata": {},
   "outputs": [],
   "source": [
    "# It's important to always use the same one-hot length\n",
    "one_hot_columns = {\n",
    "    one_hot_col: dataset[one_hot_col].max()\n",
    "    for one_hot_col in ['Gender', 'Color1', 'MaturitySize', 'FurLength',\n",
    "                        'Vaccinated', 'Dewormed', 'Sterilized', 'Health']\n",
    "}\n",
    "embedded_columns = {\n",
    "    embedded_col: dataset[embedded_col].max() + 1\n",
    "    for embedded_col in ['Breed1']\n",
    "}\n",
    "numeric_columns = ['Age', 'Fee']"
   ]
  },
  {
   "cell_type": "code",
   "execution_count": 36,
   "metadata": {},
   "outputs": [],
   "source": [
    "def process_features(df, targets=True):\n",
    "    direct_features = []\n",
    "\n",
    "    # Create one hot encodings\n",
    "    for one_hot_col, max_value in one_hot_columns.items():\n",
    "        direct_features.append(tf.keras.utils.to_categorical(df[one_hot_col] - 1, max_value))\n",
    "\n",
    "    # Create and append numeric columns\n",
    "    # Don't forget to normalize!\n",
    "    cs = MinMaxScaler()\n",
    "    direct_features.append(cs.fit_transform(df[numeric_columns]))\n",
    "    # Concatenate all features that don't need further embedding into a single matrix.\n",
    "    features = {'direct_features': numpy.hstack(direct_features)}\n",
    "\n",
    "    # Create embedding columns - nothing to do here. We will use the zero embedding for OOV\n",
    "    for embedded_col in embedded_columns.keys():\n",
    "        features[embedded_col] = df[embedded_col].values\n",
    "\n",
    "    # Convert labels to one-hot encodings\n",
    "    if targets:\n",
    "        targets = tf.keras.utils.to_categorical(df[target_col], nlabels)\n",
    "        return features, targets\n",
    "    return features"
   ]
  },
  {
   "cell_type": "code",
   "execution_count": 12,
   "metadata": {},
   "outputs": [],
   "source": [
    "X_train, y_train = process_features(dataset)"
   ]
  },
  {
   "cell_type": "code",
   "execution_count": 13,
   "metadata": {},
   "outputs": [
    {
     "data": {
      "text/plain": [
       "{'direct_features': array([[1.        , 0.        , 0.        , ..., 0.        , 0.00392157,\n",
       "         0.        ],\n",
       "        [0.        , 1.        , 0.        , ..., 0.        , 0.04705882,\n",
       "         0.        ],\n",
       "        [0.        , 1.        , 0.        , ..., 0.        , 0.01568627,\n",
       "         0.        ],\n",
       "        ...,\n",
       "        [1.        , 0.        , 0.        , ..., 0.        , 0.01176471,\n",
       "         0.        ],\n",
       "        [1.        , 0.        , 0.        , ..., 0.        , 0.04705882,\n",
       "         0.        ],\n",
       "        [0.        , 0.        , 1.        , ..., 0.        , 0.00784314,\n",
       "         0.        ]]), 'Breed1': array([307, 307, 254, ..., 307, 266, 307])}"
      ]
     },
     "execution_count": 13,
     "metadata": {},
     "output_type": "execute_result"
    }
   ],
   "source": [
    "X_train"
   ]
  },
  {
   "cell_type": "code",
   "execution_count": 14,
   "metadata": {},
   "outputs": [
    {
     "data": {
      "text/plain": [
       "(31,)"
      ]
     },
     "execution_count": 14,
     "metadata": {},
     "output_type": "execute_result"
    }
   ],
   "source": [
    "direct_features_input_shape = (X_train['direct_features'].shape[1],)\n",
    "direct_features_input_shape"
   ]
  },
  {
   "cell_type": "markdown",
   "metadata": {},
   "source": [
    "## Creando datasets iterables\n",
    "\n",
    "Como hemos visto, las redes neuronales se entrenan iterativamente con el algoritmo de *stochastic gradient descent*. Una forma de hacerlo es pasarle el dataset entero al método `fit` de un modelo de Keras, como vimos en la notebook anterior. Sin embargo, esto tiene algunas desventajas:\n",
    "\n",
    "* El dataset procesado debe entrar en memoria\n",
    "* El dataset procesado debe entrar en disco, lo cual no siempre es factible para encodings y datasets realmente grandes (ej: la wikipedia)\n",
    "* Una vez que la GPU ha terminado de procesar los datos, devuelve el control a la CPU (que estaba esperando sin hacer nada), y espera a que los nuevos datos son particionados.\n",
    "* No es posible usar cálculo distribuido en distintos file systems.\n",
    "\n",
    "Las dos primeras desventajas se solucionan preprocesando los datos en batches, y creando matrices anchas pero con pocas filas. Sin embargo, escribir este código manualmente puede ser complejo y en general lo hacemos de manera ineficiente. Solucionar las dos últimas es bastante más complicado y a la vez crítico. \n",
    "\n",
    "> **No importa qué tan buen hardware usemos para el entrenamiento del modelo, si seguimos limitados por un procesamiento de datos lineal y single core.**\n",
    "\n",
    "Por eso es recomendable utilizar las abstracciones nativas provistas por Tensorflow que paralelizan internamente muchas funciones.\n",
    "\n",
    "Para ello, crearemos un objeto `tf.data.Dataset` iterable a partir de nuestro dataframe de pandas y no tendremos que preocuparnos por la optimización de la GPU. Los datasets saben cómo crear batches, shuffles, aplicar funciones map y filter, etc. Además, podemos crear datasets a partir de diversas estructuras de datos, como numpy arrays o archivos. Pueden encontrar más información sobre los distintos tipos de Datasets en [este tutorial](https://towardsdatascience.com/how-to-use-dataset-in-tensorflow-c758ef9e4428)"
   ]
  },
  {
   "cell_type": "code",
   "execution_count": 15,
   "metadata": {},
   "outputs": [],
   "source": [
    "batch_size = 32\n",
    "# TODO shuffle the train dataset!\n",
    "train_ds = tf.data.Dataset.from_tensor_slices((X_train, y_train)).batch(batch_size)\n",
    "test_ds = tf.data.Dataset.from_tensor_slices(\n",
    "    process_features(dev_dataset)).batch(batch_size)"
   ]
  },
  {
   "cell_type": "markdown",
   "metadata": {},
   "source": [
    "Podemos ver qué es lo que tiene adentro en dataset obteniendo la primera operación."
   ]
  },
  {
   "cell_type": "code",
   "execution_count": 16,
   "metadata": {
    "scrolled": true
   },
   "outputs": [
    {
     "data": {
      "text/plain": [
       "({'direct_features': <tf.Tensor: id=21, shape=(32, 31), dtype=float64, numpy=\n",
       "  array([[1.        , 0.        , 0.        , 1.        , 0.        ,\n",
       "          0.        , 0.        , 0.        , 0.        , 0.        ,\n",
       "          0.        , 1.        , 0.        , 0.        , 1.        ,\n",
       "          0.        , 0.        , 0.        , 1.        , 0.        ,\n",
       "          0.        , 1.        , 0.        , 0.        , 1.        ,\n",
       "          0.        , 1.        , 0.        , 0.        , 0.00392157,\n",
       "          0.        ],\n",
       "         [0.        , 1.        , 0.        , 0.        , 1.        ,\n",
       "          0.        , 0.        , 0.        , 0.        , 0.        ,\n",
       "          1.        , 0.        , 0.        , 0.        , 1.        ,\n",
       "          0.        , 0.        , 1.        , 0.        , 0.        ,\n",
       "          1.        , 0.        , 0.        , 0.        , 1.        ,\n",
       "          0.        , 1.        , 0.        , 0.        , 0.04705882,\n",
       "          0.        ],\n",
       "         [0.        , 1.        , 0.        , 1.        , 0.        ,\n",
       "          0.        , 0.        , 0.        , 0.        , 0.        ,\n",
       "          0.        , 1.        , 0.        , 0.        , 0.        ,\n",
       "          1.        , 0.        , 0.        , 1.        , 0.        ,\n",
       "          0.        , 1.        , 0.        , 0.        , 1.        ,\n",
       "          0.        , 1.        , 0.        , 0.        , 0.01568627,\n",
       "          0.        ],\n",
       "         [0.        , 1.        , 0.        , 0.        , 1.        ,\n",
       "          0.        , 0.        , 0.        , 0.        , 0.        ,\n",
       "          0.        , 1.        , 0.        , 0.        , 1.        ,\n",
       "          0.        , 0.        , 0.        , 1.        , 0.        ,\n",
       "          0.        , 1.        , 0.        , 0.        , 1.        ,\n",
       "          0.        , 1.        , 0.        , 0.        , 0.00392157,\n",
       "          0.        ],\n",
       "         [1.        , 0.        , 0.        , 1.        , 0.        ,\n",
       "          0.        , 0.        , 0.        , 0.        , 0.        ,\n",
       "          0.        , 1.        , 0.        , 0.        , 1.        ,\n",
       "          0.        , 0.        , 0.        , 1.        , 0.        ,\n",
       "          0.        , 1.        , 0.        , 0.        , 1.        ,\n",
       "          0.        , 1.        , 0.        , 0.        , 0.00392157,\n",
       "          0.        ],\n",
       "         [0.        , 1.        , 0.        , 0.        , 1.        ,\n",
       "          0.        , 0.        , 0.        , 0.        , 0.        ,\n",
       "          0.        , 1.        , 0.        , 0.        , 1.        ,\n",
       "          0.        , 0.        , 0.        , 1.        , 0.        ,\n",
       "          0.        , 1.        , 0.        , 0.        , 1.        ,\n",
       "          0.        , 1.        , 0.        , 0.        , 0.01176471,\n",
       "          0.01666667],\n",
       "         [0.        , 1.        , 0.        , 0.        , 0.        ,\n",
       "          0.        , 0.        , 0.        , 1.        , 0.        ,\n",
       "          1.        , 0.        , 0.        , 0.        , 1.        ,\n",
       "          0.        , 0.        , 0.        , 1.        , 0.        ,\n",
       "          1.        , 0.        , 0.        , 0.        , 1.        ,\n",
       "          0.        , 1.        , 0.        , 0.        , 0.01176471,\n",
       "          0.        ],\n",
       "         [0.        , 0.        , 1.        , 1.        , 0.        ,\n",
       "          0.        , 0.        , 0.        , 0.        , 0.        ,\n",
       "          0.        , 0.        , 1.        , 0.        , 1.        ,\n",
       "          0.        , 0.        , 0.        , 1.        , 0.        ,\n",
       "          1.        , 0.        , 0.        , 0.        , 1.        ,\n",
       "          0.        , 1.        , 0.        , 0.        , 0.04705882,\n",
       "          0.        ],\n",
       "         [0.        , 1.        , 0.        , 1.        , 0.        ,\n",
       "          0.        , 0.        , 0.        , 0.        , 0.        ,\n",
       "          1.        , 0.        , 0.        , 0.        , 1.        ,\n",
       "          0.        , 0.        , 0.        , 1.        , 0.        ,\n",
       "          1.        , 0.        , 0.        , 0.        , 1.        ,\n",
       "          0.        , 1.        , 0.        , 0.        , 0.00784314,\n",
       "          0.        ],\n",
       "         [1.        , 0.        , 0.        , 1.        , 0.        ,\n",
       "          0.        , 0.        , 0.        , 0.        , 0.        ,\n",
       "          0.        , 0.        , 1.        , 0.        , 0.        ,\n",
       "          1.        , 0.        , 0.        , 1.        , 0.        ,\n",
       "          1.        , 0.        , 0.        , 0.        , 0.        ,\n",
       "          1.        , 1.        , 0.        , 0.        , 0.00392157,\n",
       "          0.        ],\n",
       "         [0.        , 0.        , 1.        , 0.        , 1.        ,\n",
       "          0.        , 0.        , 0.        , 0.        , 0.        ,\n",
       "          0.        , 1.        , 0.        , 0.        , 1.        ,\n",
       "          0.        , 0.        , 0.        , 1.        , 0.        ,\n",
       "          1.        , 0.        , 0.        , 0.        , 1.        ,\n",
       "          0.        , 1.        , 0.        , 0.        , 0.00784314,\n",
       "          0.        ],\n",
       "         [0.        , 1.        , 0.        , 1.        , 0.        ,\n",
       "          0.        , 0.        , 0.        , 0.        , 0.        ,\n",
       "          1.        , 0.        , 0.        , 0.        , 1.        ,\n",
       "          0.        , 0.        , 0.        , 1.        , 0.        ,\n",
       "          1.        , 0.        , 0.        , 0.        , 1.        ,\n",
       "          0.        , 1.        , 0.        , 0.        , 0.00784314,\n",
       "          0.        ],\n",
       "         [1.        , 0.        , 0.        , 1.        , 0.        ,\n",
       "          0.        , 0.        , 0.        , 0.        , 0.        ,\n",
       "          0.        , 1.        , 0.        , 0.        , 1.        ,\n",
       "          0.        , 0.        , 0.        , 0.        , 1.        ,\n",
       "          0.        , 0.        , 1.        , 0.        , 1.        ,\n",
       "          0.        , 1.        , 0.        , 0.        , 0.01960784,\n",
       "          0.        ],\n",
       "         [0.        , 0.        , 1.        , 0.        , 1.        ,\n",
       "          0.        , 0.        , 0.        , 0.        , 0.        ,\n",
       "          0.        , 1.        , 0.        , 0.        , 1.        ,\n",
       "          0.        , 0.        , 0.        , 1.        , 0.        ,\n",
       "          1.        , 0.        , 0.        , 0.        , 1.        ,\n",
       "          0.        , 1.        , 0.        , 0.        , 0.00392157,\n",
       "          0.        ],\n",
       "         [0.        , 0.        , 1.        , 0.        , 0.        ,\n",
       "          1.        , 0.        , 0.        , 0.        , 0.        ,\n",
       "          0.        , 1.        , 0.        , 0.        , 1.        ,\n",
       "          0.        , 0.        , 0.        , 1.        , 0.        ,\n",
       "          1.        , 0.        , 0.        , 0.        , 1.        ,\n",
       "          0.        , 1.        , 0.        , 0.        , 0.01568627,\n",
       "          0.        ],\n",
       "         [0.        , 1.        , 0.        , 0.        , 1.        ,\n",
       "          0.        , 0.        , 0.        , 0.        , 0.        ,\n",
       "          0.        , 1.        , 0.        , 0.        , 1.        ,\n",
       "          0.        , 0.        , 0.        , 1.        , 0.        ,\n",
       "          1.        , 0.        , 0.        , 0.        , 1.        ,\n",
       "          0.        , 1.        , 0.        , 0.        , 0.00392157,\n",
       "          0.        ],\n",
       "         [0.        , 1.        , 0.        , 0.        , 0.        ,\n",
       "          0.        , 0.        , 0.        , 1.        , 0.        ,\n",
       "          1.        , 0.        , 0.        , 0.        , 0.        ,\n",
       "          1.        , 0.        , 0.        , 0.        , 1.        ,\n",
       "          1.        , 0.        , 0.        , 0.        , 0.        ,\n",
       "          1.        , 1.        , 0.        , 0.        , 0.00784314,\n",
       "          0.        ],\n",
       "         [0.        , 1.        , 0.        , 1.        , 0.        ,\n",
       "          0.        , 0.        , 0.        , 0.        , 0.        ,\n",
       "          0.        , 1.        , 0.        , 0.        , 1.        ,\n",
       "          0.        , 0.        , 0.        , 1.        , 0.        ,\n",
       "          0.        , 1.        , 0.        , 0.        , 1.        ,\n",
       "          0.        , 1.        , 0.        , 0.        , 0.06666667,\n",
       "          0.        ],\n",
       "         [1.        , 0.        , 0.        , 0.        , 0.        ,\n",
       "          0.        , 0.        , 1.        , 0.        , 0.        ,\n",
       "          1.        , 0.        , 0.        , 0.        , 0.        ,\n",
       "          0.        , 1.        , 1.        , 0.        , 0.        ,\n",
       "          0.        , 0.        , 1.        , 1.        , 0.        ,\n",
       "          0.        , 0.        , 1.        , 0.        , 0.23529412,\n",
       "          0.06666667],\n",
       "         [1.        , 0.        , 0.        , 1.        , 0.        ,\n",
       "          0.        , 0.        , 0.        , 0.        , 0.        ,\n",
       "          1.        , 0.        , 0.        , 0.        , 1.        ,\n",
       "          0.        , 0.        , 0.        , 1.        , 0.        ,\n",
       "          0.        , 1.        , 0.        , 0.        , 1.        ,\n",
       "          0.        , 1.        , 0.        , 0.        , 0.00392157,\n",
       "          0.        ],\n",
       "         [0.        , 1.        , 0.        , 1.        , 0.        ,\n",
       "          0.        , 0.        , 0.        , 0.        , 0.        ,\n",
       "          0.        , 1.        , 0.        , 0.        , 0.        ,\n",
       "          1.        , 0.        , 1.        , 0.        , 0.        ,\n",
       "          1.        , 0.        , 0.        , 0.        , 1.        ,\n",
       "          0.        , 1.        , 0.        , 0.        , 0.00392157,\n",
       "          0.        ],\n",
       "         [1.        , 0.        , 0.        , 0.        , 0.        ,\n",
       "          1.        , 0.        , 0.        , 0.        , 0.        ,\n",
       "          1.        , 0.        , 0.        , 0.        , 0.        ,\n",
       "          1.        , 0.        , 0.        , 1.        , 0.        ,\n",
       "          0.        , 1.        , 0.        , 0.        , 1.        ,\n",
       "          0.        , 1.        , 0.        , 0.        , 0.00784314,\n",
       "          0.        ],\n",
       "         [0.        , 0.        , 1.        , 1.        , 0.        ,\n",
       "          0.        , 0.        , 0.        , 0.        , 0.        ,\n",
       "          1.        , 0.        , 0.        , 0.        , 1.        ,\n",
       "          0.        , 0.        , 0.        , 1.        , 0.        ,\n",
       "          0.        , 1.        , 0.        , 0.        , 1.        ,\n",
       "          0.        , 1.        , 0.        , 0.        , 0.01176471,\n",
       "          0.        ],\n",
       "         [1.        , 0.        , 0.        , 0.        , 1.        ,\n",
       "          0.        , 0.        , 0.        , 0.        , 0.        ,\n",
       "          1.        , 0.        , 0.        , 0.        , 0.        ,\n",
       "          1.        , 0.        , 0.        , 0.        , 1.        ,\n",
       "          0.        , 0.        , 1.        , 0.        , 1.        ,\n",
       "          0.        , 1.        , 0.        , 0.        , 0.        ,\n",
       "          0.        ],\n",
       "         [1.        , 0.        , 0.        , 0.        , 1.        ,\n",
       "          0.        , 0.        , 0.        , 0.        , 0.        ,\n",
       "          0.        , 1.        , 0.        , 0.        , 0.        ,\n",
       "          1.        , 0.        , 1.        , 0.        , 0.        ,\n",
       "          1.        , 0.        , 0.        , 0.        , 1.        ,\n",
       "          0.        , 1.        , 0.        , 0.        , 0.01176471,\n",
       "          0.        ],\n",
       "         [1.        , 0.        , 0.        , 0.        , 0.        ,\n",
       "          0.        , 0.        , 0.        , 0.        , 1.        ,\n",
       "          0.        , 1.        , 0.        , 0.        , 1.        ,\n",
       "          0.        , 0.        , 0.        , 1.        , 0.        ,\n",
       "          0.        , 1.        , 0.        , 0.        , 1.        ,\n",
       "          0.        , 1.        , 0.        , 0.        , 0.04705882,\n",
       "          0.        ],\n",
       "         [0.        , 1.        , 0.        , 1.        , 0.        ,\n",
       "          0.        , 0.        , 0.        , 0.        , 0.        ,\n",
       "          0.        , 0.        , 1.        , 0.        , 1.        ,\n",
       "          0.        , 0.        , 0.        , 0.        , 1.        ,\n",
       "          0.        , 0.        , 1.        , 0.        , 0.        ,\n",
       "          1.        , 1.        , 0.        , 0.        , 0.00784314,\n",
       "          0.        ],\n",
       "         [1.        , 0.        , 0.        , 0.        , 1.        ,\n",
       "          0.        , 0.        , 0.        , 0.        , 0.        ,\n",
       "          0.        , 1.        , 0.        , 0.        , 0.        ,\n",
       "          1.        , 0.        , 1.        , 0.        , 0.        ,\n",
       "          1.        , 0.        , 0.        , 0.        , 1.        ,\n",
       "          0.        , 1.        , 0.        , 0.        , 0.03921569,\n",
       "          0.        ],\n",
       "         [1.        , 0.        , 0.        , 0.        , 1.        ,\n",
       "          0.        , 0.        , 0.        , 0.        , 0.        ,\n",
       "          0.        , 1.        , 0.        , 0.        , 0.        ,\n",
       "          1.        , 0.        , 1.        , 0.        , 0.        ,\n",
       "          1.        , 0.        , 0.        , 0.        , 1.        ,\n",
       "          0.        , 1.        , 0.        , 0.        , 0.00784314,\n",
       "          0.        ],\n",
       "         [1.        , 0.        , 0.        , 0.        , 0.        ,\n",
       "          1.        , 0.        , 0.        , 0.        , 0.        ,\n",
       "          0.        , 1.        , 0.        , 0.        , 1.        ,\n",
       "          0.        , 0.        , 1.        , 0.        , 0.        ,\n",
       "          1.        , 0.        , 0.        , 0.        , 1.        ,\n",
       "          0.        , 1.        , 0.        , 0.        , 0.03137255,\n",
       "          0.        ],\n",
       "         [0.        , 1.        , 0.        , 0.        , 0.        ,\n",
       "          0.        , 0.        , 0.        , 1.        , 0.        ,\n",
       "          0.        , 1.        , 0.        , 0.        , 1.        ,\n",
       "          0.        , 0.        , 0.        , 1.        , 0.        ,\n",
       "          1.        , 0.        , 0.        , 0.        , 1.        ,\n",
       "          0.        , 1.        , 0.        , 0.        , 0.01176471,\n",
       "          0.        ],\n",
       "         [0.        , 0.        , 1.        , 0.        , 1.        ,\n",
       "          0.        , 0.        , 0.        , 0.        , 0.        ,\n",
       "          0.        , 1.        , 0.        , 0.        , 1.        ,\n",
       "          0.        , 0.        , 0.        , 1.        , 0.        ,\n",
       "          0.        , 1.        , 0.        , 0.        , 1.        ,\n",
       "          0.        , 1.        , 0.        , 0.        , 0.        ,\n",
       "          0.        ]])>,\n",
       "  'Breed1': <tf.Tensor: id=20, shape=(32,), dtype=int64, numpy=\n",
       "  array([307, 307, 254, 307, 307, 307,  25, 307, 266, 266, 266, 266, 266,\n",
       "         266, 266, 218, 265, 266, 179, 266, 307, 266, 266, 218, 307, 307,\n",
       "         141, 190, 307, 307, 266, 307])>},\n",
       " <tf.Tensor: id=22, shape=(32, 5), dtype=float32, numpy=\n",
       " array([[0., 1., 0., 0., 0.],\n",
       "        [0., 0., 0., 0., 1.],\n",
       "        [0., 1., 0., 0., 0.],\n",
       "        [0., 0., 0., 1., 0.],\n",
       "        [0., 0., 1., 0., 0.],\n",
       "        [0., 0., 1., 0., 0.],\n",
       "        [0., 0., 0., 0., 1.],\n",
       "        [0., 0., 0., 1., 0.],\n",
       "        [0., 1., 0., 0., 0.],\n",
       "        [0., 0., 1., 0., 0.],\n",
       "        [0., 0., 0., 1., 0.],\n",
       "        [0., 0., 1., 0., 0.],\n",
       "        [0., 0., 0., 1., 0.],\n",
       "        [0., 1., 0., 0., 0.],\n",
       "        [0., 0., 1., 0., 0.],\n",
       "        [0., 0., 0., 1., 0.],\n",
       "        [0., 0., 0., 1., 0.],\n",
       "        [0., 0., 0., 0., 1.],\n",
       "        [0., 1., 0., 0., 0.],\n",
       "        [0., 0., 0., 0., 1.],\n",
       "        [0., 0., 1., 0., 0.],\n",
       "        [0., 0., 1., 0., 0.],\n",
       "        [0., 0., 0., 1., 0.],\n",
       "        [0., 1., 0., 0., 0.],\n",
       "        [0., 0., 0., 1., 0.],\n",
       "        [0., 0., 0., 0., 1.],\n",
       "        [0., 0., 1., 0., 0.],\n",
       "        [1., 0., 0., 0., 0.],\n",
       "        [0., 0., 1., 0., 0.],\n",
       "        [0., 0., 0., 1., 0.],\n",
       "        [0., 0., 1., 0., 0.],\n",
       "        [0., 0., 1., 0., 0.]], dtype=float32)>)"
      ]
     },
     "execution_count": 16,
     "metadata": {},
     "output_type": "execute_result"
    }
   ],
   "source": [
    "x_batch, y_batch = next(iter(train_ds))\n",
    "x_batch, y_batch"
   ]
  },
  {
   "cell_type": "markdown",
   "metadata": {},
   "source": [
    "## Construyendo el modelo\n",
    "\n",
    "Construimos el modelo, por ahora con sólo una capa oculta. Sin embargo, la complejidad más grande es combinar los features que tienen embeddings con los que no. Por cada tipo de feature, tenemos que agregar una capa de `Input`. Tener en cuenta que cada embedded feature se considera distinto.\n",
    "\n",
    "Como tenemos más de un input, tenemos que usar la API funcional de Keras en lugar de usar un modelo `Sequential`. La API funcional puede construir modelos más flexibles, ya que conectaremos explícitamente cada capa con su capa siguiente.\n",
    "\n",
    "Pueden encontrar otro ejemplo similar a este código en [esta notebook](https://www.kaggle.com/alexanderkireev/deep-learning-support-9663)."
   ]
  },
  {
   "cell_type": "code",
   "execution_count": 17,
   "metadata": {},
   "outputs": [
    {
     "name": "stdout",
     "output_type": "stream",
     "text": [
      "Adding embedding of size 77 for layer Breed1\n"
     ]
    }
   ],
   "source": [
    "tf.keras.backend.clear_session()\n",
    "\n",
    "hidden_layer_size = 64\n",
    "\n",
    "# Add one input and one embedding for each embedded column\n",
    "embedding_layers = []\n",
    "inputs = []\n",
    "for embedded_col, max_value in embedded_columns.items():\n",
    "    input_layer = layers.Input(shape=(1,), name=embedded_col)\n",
    "    inputs.append(input_layer)\n",
    "    # Define the embedding layer\n",
    "    embedding_size = int(max_value / 4)\n",
    "    embedding_layers.append(\n",
    "        tf.squeeze(layers.Embedding(input_dim=max_value, output_dim=embedding_size)(input_layer), axis=-2))\n",
    "    print('Adding embedding of size {} for layer {}'.format(embedding_size, embedded_col))\n",
    "\n",
    "# Add the direct features already calculated\n",
    "direct_features_input = layers.Input(shape=direct_features_input_shape, name='direct_features')\n",
    "inputs.append(direct_features_input)\n",
    "    \n",
    "# Concatenate everything together\n",
    "features = layers.concatenate(embedding_layers + [direct_features_input])\n",
    "\n",
    "dense1 = layers.Dense(hidden_layer_size, activation='relu')(features)\n",
    "output_layer = layers.Dense(nlabels, activation='softmax')(dense1)\n",
    "\n",
    "model = models.Model(inputs=inputs, outputs=output_layer)"
   ]
  },
  {
   "cell_type": "markdown",
   "metadata": {},
   "source": [
    "### Métricas de evaluación\n",
    "\n",
    "Al igual que en la materia de aprendizaje supervisado, utilizaremos el accuracy como métrica, y agregaremos el score f1. Es opcional implementar esta predicción como un problema de regresión."
   ]
  },
  {
   "cell_type": "code",
   "execution_count": 18,
   "metadata": {},
   "outputs": [
    {
     "name": "stdout",
     "output_type": "stream",
     "text": [
      "Model: \"model\"\n",
      "__________________________________________________________________________________________________\n",
      "Layer (type)                    Output Shape         Param #     Connected to                     \n",
      "==================================================================================================\n",
      "Breed1 (InputLayer)             [(None, 1)]          0                                            \n",
      "__________________________________________________________________________________________________\n",
      "embedding (Embedding)           (None, 1, 77)        23716       Breed1[0][0]                     \n",
      "__________________________________________________________________________________________________\n",
      "tf_op_layer_Squeeze (TensorFlow [(None, 77)]         0           embedding[0][0]                  \n",
      "__________________________________________________________________________________________________\n",
      "direct_features (InputLayer)    [(None, 31)]         0                                            \n",
      "__________________________________________________________________________________________________\n",
      "concatenate (Concatenate)       (None, 108)          0           tf_op_layer_Squeeze[0][0]        \n",
      "                                                                 direct_features[0][0]            \n",
      "__________________________________________________________________________________________________\n",
      "dense (Dense)                   (None, 64)           6976        concatenate[0][0]                \n",
      "__________________________________________________________________________________________________\n",
      "dense_1 (Dense)                 (None, 5)            325         dense[0][0]                      \n",
      "==================================================================================================\n",
      "Total params: 31,017\n",
      "Trainable params: 31,017\n",
      "Non-trainable params: 0\n",
      "__________________________________________________________________________________________________\n"
     ]
    }
   ],
   "source": [
    "model.compile(loss='categorical_crossentropy', optimizer='adam',\n",
    "              metrics=['accuracy'])\n",
    "model.summary()"
   ]
  },
  {
   "cell_type": "markdown",
   "metadata": {},
   "source": [
    "## Entrenando el modelo\n",
    "\n",
    "Una vez que tenemos definido nuestro modelo, tenemos que entrenarlo. Sin embargo, para que los resultados sean útiles, tenemos que llevar un registro de qué hiperparámetros utilizamos y qué performance obtuvimos. Para eso, usaremos [MLFlow](https://mlflow.org/docs/latest/quickstart.html), una librería muy simple pero que permite sistematizar el registro de resultados.\n",
    "\n",
    "MLFlow soporta muchísimos casos de uso, pero por ahora sólo usaremos el más básico de todos para organizar el entrenamiento. Llamaremos *experiments* a los cambios grandes en la arquitectura, por ejemplo, si agregamos muchas capas nuevas o mecanismos de regularización. Llamaremos *runs* a las distintas ejecuciones de la misma arquitectura donde variamos sólo algunos hiperparámetros, como funciones de activación, cantidad de neuronas, tamaños de los embeddings, etc.\n",
    "\n",
    "Para acceder a la interfaz gráfica donde podemos ver las *run*, en una nueva terminal tenemos que ejecutar \n",
    "\n",
    "    $ mlflow ui -p PORT\n",
    "    \n",
    "Y abrir `https://localhost:PORT` en nuestro navegador (donde `PORT` es un número de puerto). Si estamos en un servidor, es probab, tendremos que abrir un nuevo puerto ssh a `PORT`."
   ]
  },
  {
   "cell_type": "code",
   "execution_count": 19,
   "metadata": {},
   "outputs": [],
   "source": [
    "import mlflow"
   ]
  },
  {
   "cell_type": "code",
   "execution_count": 20,
   "metadata": {},
   "outputs": [
    {
     "data": {
      "text/plain": [
       "<BatchDataset shapes: ({direct_features: (None, 31), Breed1: (None,)}, (None, 5)), types: ({direct_features: tf.float64, Breed1: tf.int64}, tf.float32)>"
      ]
     },
     "execution_count": 20,
     "metadata": {},
     "output_type": "execute_result"
    }
   ],
   "source": [
    "train_ds"
   ]
  },
  {
   "cell_type": "code",
   "execution_count": 21,
   "metadata": {},
   "outputs": [
    {
     "name": "stdout",
     "output_type": "stream",
     "text": [
      "Epoch 1/10\n",
      "265/265 [==============================] - 2s 6ms/step - loss: 1.4381 - accuracy: 0.3298\n",
      "Epoch 2/10\n",
      "265/265 [==============================] - 0s 2ms/step - loss: 1.3969 - accuracy: 0.3598\n",
      "Epoch 3/10\n",
      "265/265 [==============================] - 0s 2ms/step - loss: 1.3835 - accuracy: 0.3733\n",
      "Epoch 4/10\n",
      "265/265 [==============================] - 0s 2ms/step - loss: 1.3731 - accuracy: 0.3796\n",
      "Epoch 5/10\n",
      "265/265 [==============================] - 0s 2ms/step - loss: 1.3641 - accuracy: 0.3843\n",
      "Epoch 6/10\n",
      "265/265 [==============================] - 0s 2ms/step - loss: 1.3558 - accuracy: 0.3896\n",
      "Epoch 7/10\n",
      "265/265 [==============================] - 0s 2ms/step - loss: 1.3484 - accuracy: 0.3930\n",
      "Epoch 8/10\n",
      "265/265 [==============================] - 0s 2ms/step - loss: 1.3412 - accuracy: 0.3983\n",
      "Epoch 9/10\n",
      "265/265 [==============================] - 0s 2ms/step - loss: 1.3348 - accuracy: 0.4019\n",
      "Epoch 10/10\n",
      "265/265 [==============================] - 0s 2ms/step - loss: 1.3286 - accuracy: 0.4052\n",
      "67/67 [==============================] - 0s 3ms/step - loss: 1.4127 - accuracy: 0.3708\n",
      "*** Test loss: 1.4127341882506412 - accuracy: 0.3708077371120453\n"
     ]
    }
   ],
   "source": [
    "mlflow.set_experiment('very_base_approach')\n",
    "\n",
    "with mlflow.start_run(nested=True):\n",
    "    # Log model hiperparameters first\n",
    "    mlflow.log_param('hidden_layer_size', hidden_layer_size)\n",
    "    mlflow.log_param('embedded_columns', embedded_columns)\n",
    "    mlflow.log_param('one_hot_columns', one_hot_columns)\n",
    "    mlflow.log_param('numeric_columns', numeric_columns)\n",
    "    \n",
    "    # Train\n",
    "    epochs = 10\n",
    "    history = model.fit(train_ds, epochs=epochs)\n",
    "    \n",
    "    # Evaluate\n",
    "    loss, accuracy = model.evaluate(test_ds)\n",
    "    print(\"*** Test loss: {} - accuracy: {}\".format(loss, accuracy))\n",
    "    mlflow.log_metric('epochs', epochs)\n",
    "    mlflow.log_metric('loss', loss)\n",
    "    mlflow.log_metric('accuracy', accuracy)"
   ]
  },
  {
   "cell_type": "markdown",
   "metadata": {},
   "source": [
    "## Evaluando del modelo\n",
    "\n",
    "Además de tener en cuenta las métricas de performance del modelo, es importante mirar los resultados obtenidos y controlar que el modelo efectivamente está aprendiendo algo relevante."
   ]
  },
  {
   "cell_type": "code",
   "execution_count": 22,
   "metadata": {},
   "outputs": [
    {
     "name": "stderr",
     "output_type": "stream",
     "text": [
      "/home/dbourdin/miniconda3/envs/diplodatos/lib/python3.7/site-packages/tensorflow_core/python/keras/engine/training_v2_utils.py:364: DeprecationWarning: Using or importing the ABCs from 'collections' instead of from 'collections.abc' is deprecated, and in 3.8 it will stop working\n",
      "  if isinstance(inputs, collections.Sequence):\n"
     ]
    },
    {
     "data": {
      "text/plain": [
       "<matplotlib.axes._subplots.AxesSubplot at 0x7fd24009a978>"
      ]
     },
     "execution_count": 22,
     "metadata": {},
     "output_type": "execute_result"
    },
    {
     "data": {
      "image/png": "[encoded data removed]",
      "text/plain": [
       "<Figure size 432x288 with 1 Axes>"
      ]
     },
     "metadata": {
      "needs_background": "light"
     },
     "output_type": "display_data"
    }
   ],
   "source": [
    "predictions = numpy.argmax(model.predict(test_ds), axis=1)\n",
    "seaborn.countplot(predictions)"
   ]
  },
  {
   "cell_type": "markdown",
   "metadata": {},
   "source": [
    "- Lo primero que hicimos fue correr el ejercicio de la misma forma que lo habíamos visto en clase. Al hacer esto, el accuracy obtenido fue de 0.311.\n",
    "- Probamos aumentar el número de epochs a 50, lo cual aumentó el tiempo de procesamiento, pero los resultados no mejoraron demasiado. Se obtuvo un 0.335 de accuracy. Por lo tanto decidimos seguir corriendo con 10 epochs.\n",
    "- Luego agregamos las columnas numéricas Age y Fee (normalizadas utilizando MinMaxScaler), lo cual mejoró muy poco el resultado obtenido anteriormente, con un valor de 0.333.\n",
    "- Luego agregamos el resto de las variables categóricas. Al agregar estas variables, la accuracy aumentó notoriamente a un 0.372.\n",
    "- También probamos agregar la columna numérica Quantity, pero al hacer esto, la accuracy disminuyó del 0.372 obtenido anteriormente a 0.36.\n",
    "- Por último, probamos correr con 50 epochs el modelo utilizando las variables categóricas mencionadas anteriormnente (con las que se había obtenido un accuracy de 0.372). Al hacer esto, notamos que el accuracy en el conjunto de entrenamiento subía a medida que pasaban las epochs, sin embargo, nuestro modelo claramente resultó estar haciendo over-fitting para el conjunto de entrenamiento, ya que el accuracy para el conjunto de testing fue de 0.326."
   ]
  },
  {
   "cell_type": "code",
   "execution_count": 33,
   "metadata": {},
   "outputs": [],
   "source": [
    "test_dataset = pandas.read_csv(os.path.join(DATA_DIRECTORY, 'test.csv'))"
   ]
  },
  {
   "cell_type": "code",
   "execution_count": 37,
   "metadata": {},
   "outputs": [],
   "source": [
    "final_test_dataset = tf.data.Dataset.from_tensor_slices(\n",
    "    process_features(test_dataset, targets=False)).batch(batch_size)"
   ]
  },
  {
   "cell_type": "code",
   "execution_count": 38,
   "metadata": {},
   "outputs": [],
   "source": [
    "predictions = numpy.argmax(model.predict(final_test_dataset), axis=1)"
   ]
  },
  {
   "cell_type": "code",
   "execution_count": 42,
   "metadata": {},
   "outputs": [],
   "source": [
    "submission = pandas.DataFrame(list(zip(test_dataset.PID, predictions)), columns=[\"PID\", \"AdoptionSpeed\"])"
   ]
  },
  {
   "cell_type": "code",
   "execution_count": 45,
   "metadata": {},
   "outputs": [],
   "source": [
    "submission.to_csv(os.path.join(DATA_DIRECTORY, 'results.csv'), header=True, index=False)"
   ]
  },
  {
   "cell_type": "code",
   "execution_count": null,
   "metadata": {},
   "outputs": [],
   "source": []
  }
 ],
 "metadata": {
  "kernelspec": {
   "display_name": "Python 3",
   "language": "python",
   "name": "python3"
  },
  "language_info": {
   "codemirror_mode": {
    "name": "ipython",
    "version": 3
   },
   "file_extension": ".py",
   "mimetype": "text/x-python",
   "name": "python",
   "nbconvert_exporter": "python",
   "pygments_lexer": "ipython3",
   "version": "3.7.3"
  }
 },
 "nbformat": 4,
 "nbformat_minor": 2
}
