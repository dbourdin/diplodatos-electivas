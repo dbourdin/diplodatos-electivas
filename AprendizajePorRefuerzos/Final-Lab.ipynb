{
 "cells": [
  {
   "cell_type": "markdown",
   "metadata": {},
   "source": [
    "# Lab 2: Final\n",
    "\n",
    "Curso Aprendizaje por Refuerzos, Diplomatura en Ciencia de Datos, Aprendizaje Automático y sus Aplicaciones\n",
    "\n",
    "FaMAF, 2019"
   ]
  },
  {
   "cell_type": "markdown",
   "metadata": {},
   "source": [
    "## Ejercicios Lab Final\n",
    "\n",
    "Se pide:\n",
    "\n",
    "1) Implementar [Double DQN (DDQN)](https://www.aaai.org/ocs/index.php/AAAI/AAAI16/paper/view/12389/11847).\n",
    "\n",
    "2) Implementar [Dueling DDQN](https://arxiv.org/pdf/1511.06581.pdf).\n",
    "\n",
    "3) Cambiar el entorno por uno nuevo a elección\n",
    "\n",
    "4) Implementar [Prioritized Experience Replay (PER)](https://arxiv.org/pdf/1511.05952.pdf) (**Opcional**).\n",
    "\n",
    "**Comentar en un notebook lo realizado paso a paso, mostrando resultados parciales y finales. Y subirlo a un repositorio en GitHub** \n",
    "\n",
    "**Recomendación General**: No se sugiere hacer este TP desde jupyter notebook/lab sino desde un IDE estilo \"Pycharm\" o \"Visual Studio Code\", debido a que los algoritmos de RL suelen requerir un debug paso a paso, tanto para corregir errores como para entender mejor cómo funcionan los mismos.\n",
    "\n",
    "**Opcional**: Implementación de un agente DQN convolucional que aprende a jugar a Atari© Space Invaders© ([link](https://github.com/simoninithomas/Deep_reinforcement_learning_Course/blob/master/Deep%20Q%20Learning/Space%20Invaders/DQN%20Atari%20Space%20Invaders.ipynb))"
   ]
  },
  {
   "cell_type": "code",
   "execution_count": 1,
   "metadata": {},
   "outputs": [],
   "source": [
    "import itertools\n",
    "import math\n",
    "import time\n",
    "import warnings\n",
    "\n",
    "warnings.simplefilter('ignore')\n"
   ]
  },
  {
   "cell_type": "code",
   "execution_count": 2,
   "metadata": {},
   "outputs": [],
   "source": [
    "%matplotlib inline\n",
    "\n",
    "import gym\n",
    "import matplotlib\n",
    "import numpy as np\n",
    "import torch\n",
    "from IPython.display import clear_output\n",
    "from matplotlib import pyplot as plt\n",
    "from torch import nn\n",
    "from torch.nn import functional as F\n",
    "\n",
    "matplotlib.rcParams['figure.figsize'] = 16, 8\n",
    "plt.style.use('seaborn-dark')\n"
   ]
  },
  {
   "cell_type": "code",
   "execution_count": 3,
   "metadata": {},
   "outputs": [],
   "source": [
    "from agents.utils.memory.ReplayMemory import ReplayMemory\n",
    "from agents.utils.memory.Transition import Transition\n"
   ]
  },
  {
   "cell_type": "code",
   "execution_count": 4,
   "metadata": {},
   "outputs": [],
   "source": [
    "class Net(nn.Module):\n",
    "\n",
    "    def __init__(self, _input_size: int, _output_size: int, _hidden_layers: int, _hidden_size: int):\n",
    "        super(Net, self).__init__()\n",
    "        self.input = nn.Linear(_input_size, _hidden_size)\n",
    "        self.hidden_layers = _hidden_layers\n",
    "        self.hidden = []\n",
    "        for i in range(_hidden_layers):\n",
    "            layer = nn.Linear(_hidden_size, _hidden_size)\n",
    "            self.add_module('h'+str(i), layer)\n",
    "            self.hidden.append(layer)\n",
    "        self.output = nn.Linear(_hidden_size, _output_size)\n",
    "\n",
    "        # init weights\n",
    "        for m in self.modules():\n",
    "            if isinstance(m, nn.Linear):\n",
    "                nn.init.xavier_uniform_(m.weight)\n",
    "                m.bias.data.fill_(0.01)\n",
    "\n",
    "    # Called with either one element to determine next action, or a batch\n",
    "    # during optimization. Returns tensor([[left0exp,right0exp]...]).\n",
    "    def forward(self, x):\n",
    "        x = F.relu(self.input(x))\n",
    "        for i in range(self.hidden_layers):\n",
    "            x = F.relu(self.hidden[i](x))\n",
    "        x = self.output(x)\n",
    "        return x\n"
   ]
  },
  {
   "cell_type": "code",
   "execution_count": 5,
   "metadata": {},
   "outputs": [],
   "source": [
    "n_episodes = 2500"
   ]
  },
  {
   "cell_type": "markdown",
   "metadata": {},
   "source": [
    "## Implementamos DDQN"
   ]
  },
  {
   "cell_type": "code",
   "execution_count": 6,
   "metadata": {},
   "outputs": [],
   "source": [
    "class DDQN:\n",
    "    def __init__(self, env, n_episodes=3000, max_env_steps=None, gamma=0.9,\n",
    "                 epsilon=0.5, epsilon_min=0.05, epsilon_log_decay=0.001, alpha=1e-3,\n",
    "                 memory_size=10000, batch_size=256, c=10, hidden_layers=2, hidden_size=24,\n",
    "                 render=False, debug=False):\n",
    "\n",
    "        self.memory = ReplayMemory(capacity=memory_size)\n",
    "        self.env = env\n",
    "\n",
    "        # hyper-parameter setting\n",
    "        self.gamma = gamma\n",
    "        self.epsilon = epsilon\n",
    "        self.epsilon_min = epsilon_min\n",
    "        self.epsilon_decay = epsilon_log_decay\n",
    "        self.alpha = alpha\n",
    "        self.n_episodes = n_episodes\n",
    "        self.batch_size = batch_size\n",
    "        self.c = c\n",
    "        if max_env_steps is not None:\n",
    "            self.env._max_episode_steps = max_env_steps\n",
    "        self.observation_space_size = env.observation_space.shape[0]\n",
    "        self.action_space_size = env.action_space.n\n",
    "\n",
    "        self.render = render\n",
    "        self.debug = debug\n",
    "        if debug:\n",
    "            self.loss_list = []\n",
    "        # if gpu is to be used\n",
    "        self.device = torch.device(\"cuda\" if torch.cuda.is_available() else \"cpu\")\n",
    "\n",
    "        # Init model 1\n",
    "        # Use the nn package to define our model as a sequence of layers. nn.Sequential\n",
    "        # is a Module which contains other Modules, and applies them in sequence to\n",
    "        # produce its output. Each Linear Module computes output from input using a\n",
    "        # linear function, and holds internal Tensors for its weight and bias.\n",
    "        # After constructing the model we use the .to() method to move it to the\n",
    "        # desired device.\n",
    "        self.model = Net(\n",
    "            self.observation_space_size, self.action_space_size,\n",
    "            hidden_layers, hidden_size).to(self.device)\n",
    "        self.target = Net(\n",
    "            self.observation_space_size, self.action_space_size,\n",
    "            hidden_layers, hidden_size).to(self.device)\n",
    "        self.target.load_state_dict(self.model.state_dict())\n",
    "        self.target.eval()\n",
    "        self.model.train()\n",
    "\n",
    "        # The nn package also contains definitions of popular loss functions; in this\n",
    "        # case we will use Mean Squared Error (MSE) as our loss function. Setting\n",
    "        # reduction='sum' means that we are computing the *sum* of squared errors rather\n",
    "        # than the mean; this is for consistency with the examples above where we\n",
    "        # manually compute the loss, but in practice it is more common to use mean\n",
    "        # squared error as a loss by setting reduction='elementwise_mean'.\n",
    "        self.loss_fn = torch.nn.MSELoss()\n",
    "\n",
    "        # Use the optim package to define an Optimizer that will update the weights of\n",
    "        # the model for us. Here we will use Adam; the optim package contains many other\n",
    "        # optimization algoriths. The first argument to the Adam constructor tells the\n",
    "        # optimizer which Tensors it should update.\n",
    "        self.optimizer = torch.optim.Adam(self.model.parameters(), lr=alpha)\n",
    "\n",
    "    def choose_action(self, state, epsilon):\n",
    "        \"\"\"Chooses the next action according to the model trained and the policy\"\"\"\n",
    "\n",
    "        # exploits the current knowledge if the random number > epsilon, otherwise explores\n",
    "        if np.random.random() <= epsilon:\n",
    "            return self.env.action_space.sample()\n",
    "        else:\n",
    "            with torch.no_grad():\n",
    "                q = self.model(state)\n",
    "                argmax = torch.argmax(q)\n",
    "                return argmax.item()\n",
    "\n",
    "    def get_epsilon(self, episode):\n",
    "        \"\"\"Returns an epsilon that decays over time until a minimum epsilon value is reached; in this case the minimum\n",
    "        value is returned\"\"\"\n",
    "        return max(self.epsilon_min, self.epsilon * math.exp(-self.epsilon_decay * episode))\n",
    "\n",
    "    def replay(self):\n",
    "        \"\"\"Previously stored (s, a, r, s') tuples are replayed (that is, are added into the model). The size of the\n",
    "        tuples added is determined by the batch_size parameter\"\"\"\n",
    "\n",
    "        transitions, _ = self.memory.sample(self.batch_size)\n",
    "        # Transpose the batch (see https://stackoverflow.com/a/19343/3343043 for\n",
    "        # detailed explanation). This converts batch-array of Transitions\n",
    "        # to Transition of batch-arrays.\n",
    "        batch = Transition(*zip(*transitions))\n",
    "        # Compute a mask of non-final states and concatenate the batch elements\n",
    "        # (a final state would've been the one after which simulation ended)\n",
    "        non_final_next_states = torch.stack([s for s in batch.next_state if s is not None])\n",
    "\n",
    "        non_final_mask = torch.stack(batch.done)\n",
    "        state_batch = torch.stack(batch.state)\n",
    "        action_batch = torch.stack(batch.action)\n",
    "        reward_batch = torch.stack(batch.reward)\n",
    "\n",
    "        # Compute Q(s_t, a) - the model computes Q(s_t), then we select the\n",
    "        # columns of actions taken. These are the actions which would've been taken\n",
    "        # for each batch state according to policy_net\n",
    "        state_action_values = self.model(state_batch).gather(1, action_batch)\n",
    "\n",
    "        # Compute V(s_{t+1}) for all next states.\n",
    "        # Expected values of actions for non_final_next_states are computed based\n",
    "        # on the \"older\" target_net; selecting their best reward with max(1)[0].\n",
    "        # This is merged based on the mask, such that we'll have either the expected\n",
    "        # state value or 0 in case the state was final.\n",
    "        with torch.no_grad():\n",
    "            next_state_values = torch.zeros(self.batch_size, device=self.device)\n",
    "\n",
    "            _, next_state_actions = self.model(non_final_next_states).max(1, keepdim=True)\n",
    "            next_non_final_mask = self.target(non_final_next_states).gather(1, next_state_actions).squeeze()\n",
    "            next_state_values[non_final_mask] = next_non_final_mask\n",
    "\n",
    "            # Compute the expected Q values\n",
    "            expected_state_action_values = reward_batch + self.gamma * next_state_values\n",
    "\n",
    "        # Compute loss\n",
    "        loss = self.loss_fn(state_action_values, expected_state_action_values.unsqueeze(1))\n",
    "\n",
    "        if self.debug:\n",
    "            self.loss_list.append(loss)\n",
    "        # Optimize the model\n",
    "        self.optimizer.zero_grad()\n",
    "        loss.backward()\n",
    "        for param in self.model.parameters():\n",
    "            param.grad.data.clamp_(-1, 1)\n",
    "        self.optimizer.step()\n",
    "\n",
    "    def run(self):\n",
    "        \"\"\"Main loop that controls the execution of the agent\"\"\"\n",
    "\n",
    "        scores = []\n",
    "        mean_scores = []\n",
    "        j = 0  # used for model2 update every c steps\n",
    "        for e in range(self.n_episodes):\n",
    "            state = self.env.reset()\n",
    "            state = torch.tensor(state, device=self.device, dtype=torch.float)\n",
    "            done = False\n",
    "            cum_reward = 0\n",
    "            while not done:\n",
    "                action = self.choose_action(\n",
    "                    state,\n",
    "                    self.get_epsilon(e))\n",
    "                next_state, reward, done, _ = self.env.step(action)\n",
    "                next_state = torch.tensor(next_state, device=self.device, dtype=torch.float)\n",
    "\n",
    "                cum_reward += reward\n",
    "                self.memory.push(\n",
    "                    state,  #Converted to tensor in choose_action method\n",
    "                    torch.tensor([action], device=self.device),\n",
    "                    None if done else next_state,\n",
    "                    torch.tensor(reward, device=self.device).clamp_(-1, 1),\n",
    "                    torch.tensor(not done, device=self.device, dtype=torch.bool))\n",
    "\n",
    "                if self.memory.__len__() >= self.batch_size:\n",
    "                    self.replay()\n",
    "\n",
    "                state = next_state\n",
    "                j += 1\n",
    "\n",
    "                # update second model\n",
    "                if j % self.c == 0:\n",
    "                    self.target.load_state_dict(self.model.state_dict())\n",
    "                    self.target.eval()\n",
    "\n",
    "            scores.append(cum_reward)\n",
    "            mean_score = np.mean(scores)\n",
    "            mean_scores.append(mean_score)\n",
    "            if e % 100 == 0 and self.debug:\n",
    "                print('[Episode {}] - Mean reward {}.'.format(e, mean_score))\n",
    "\n",
    "        # noinspection PyUnboundLocalVariable\n",
    "        print('[Episode {}] - Mean reward {}.'.format(e, mean_score))\n",
    "        return scores, mean_scores\n",
    "\n",
    "    def save(self, path):\n",
    "        torch.save(self.model, path)\n",
    "\n",
    "    def load(self, path):\n",
    "        self.model = torch.load(path)\n"
   ]
  },
  {
   "cell_type": "code",
   "execution_count": 7,
   "metadata": {},
   "outputs": [
    {
     "name": "stdout",
     "output_type": "stream",
     "text": [
      "[Episode 0] - Mean reward 10.0.\n",
      "[Episode 100] - Mean reward 66.21782178217822.\n",
      "[Episode 200] - Mean reward 52.875621890547265.\n",
      "[Episode 300] - Mean reward 50.19601328903654.\n",
      "[Episode 400] - Mean reward 47.790523690773064.\n",
      "[Episode 500] - Mean reward 45.92215568862275.\n",
      "[Episode 600] - Mean reward 46.44425956738769.\n",
      "[Episode 700] - Mean reward 48.523537803138375.\n",
      "[Episode 800] - Mean reward 49.61423220973783.\n",
      "[Episode 900] - Mean reward 51.496115427302996.\n",
      "[Episode 1000] - Mean reward 52.91108891108891.\n",
      "[Episode 1100] - Mean reward 54.86376021798365.\n",
      "[Episode 1200] - Mean reward 56.614487926727726.\n",
      "[Episode 1300] - Mean reward 58.95849346656418.\n",
      "[Episode 1400] - Mean reward 62.89793004996431.\n",
      "[Episode 1500] - Mean reward 67.41239173884077.\n",
      "[Episode 1600] - Mean reward 71.3472829481574.\n",
      "[Episode 1700] - Mean reward 75.13991769547324.\n",
      "[Episode 1800] - Mean reward 79.78678511937812.\n",
      "[Episode 1900] - Mean reward 83.81641241451868.\n",
      "[Episode 2000] - Mean reward 87.92703648175912.\n",
      "[Episode 2100] - Mean reward 89.64778676820562.\n",
      "[Episode 2200] - Mean reward 91.36619718309859.\n",
      "[Episode 2300] - Mean reward 93.67448935245545.\n",
      "[Episode 2400] - Mean reward 95.42274052478135.\n",
      "[Episode 2499] - Mean reward 96.7936.\n"
     ]
    }
   ],
   "source": [
    "agent = DDQN(gym.make('CartPole-v0'), n_episodes=n_episodes, debug=True)\n",
    "scores_DDQN, mean_DDQN = agent.run()\n"
   ]
  },
  {
   "cell_type": "code",
   "execution_count": 8,
   "metadata": {},
   "outputs": [
    {
     "data": {
      "image/png": "[encoded data removed]",
      "text/plain": [
       "<Figure size 432x288 with 1 Axes>"
      ]
     },
     "metadata": {
      "needs_background": "light"
     },
     "output_type": "display_data"
    }
   ],
   "source": [
    "plt.plot(np.array(scores_DDQN), label='DDQN', c='#7e5fa4')\n",
    "plt.ylim(0, 200)\n",
    "plt.title('Recompensa por episodio')\n",
    "plt.legend(loc='upper left')\n",
    "plt.show()\n"
   ]
  },
  {
   "cell_type": "code",
   "execution_count": 9,
   "metadata": {},
   "outputs": [
    {
     "data": {
      "image/png": "[encoded data removed]",
      "text/plain": [
       "<Figure size 432x288 with 1 Axes>"
      ]
     },
     "metadata": {
      "needs_background": "light"
     },
     "output_type": "display_data"
    }
   ],
   "source": [
    "plt.plot(np.array(mean_DDQN), label='DDQN', c='#7e5fa4')\n",
    "plt.ylim(0, 200)\n",
    "plt.title('Recompensa promedio por episodio')\n",
    "plt.legend(loc='upper left')\n",
    "plt.show()\n"
   ]
  },
  {
   "cell_type": "markdown",
   "metadata": {},
   "source": [
    "## Implementamos Dueling DQN"
   ]
  },
  {
   "cell_type": "code",
   "execution_count": 10,
   "metadata": {},
   "outputs": [],
   "source": [
    "class DuelingNet(nn.Module):\n",
    "\n",
    "    def __init__(self, _input_size: int, _output_size: int,\n",
    "                 _hidden_layers: int, _hidden_size: int):\n",
    "        super(DuelingNet, self).__init__()\n",
    "        self.input = nn.Linear(_input_size, _hidden_size)\n",
    "        self.hidden_layers = _hidden_layers\n",
    "        self.hidden = []\n",
    "        for i in range(_hidden_layers):\n",
    "            layer = nn.Linear(_hidden_size, _hidden_size)\n",
    "            self.add_module('h'+str(i), layer)\n",
    "            self.hidden.append(layer)\n",
    "        self.advantage = nn.Linear(_hidden_size, _output_size)\n",
    "        self.output = nn.Linear(_hidden_size, _output_size)\n",
    "\n",
    "        # init weights\n",
    "        for m in self.modules():\n",
    "            if isinstance(m, nn.Linear):\n",
    "                nn.init.xavier_uniform_(m.weight)\n",
    "                m.bias.data.fill_(0.01)\n",
    "\n",
    "    # Called with either one element to determine next action, or a batch\n",
    "    # during optimization. Returns tensor([[left0exp,right0exp]...]).\n",
    "    def forward(self, x):\n",
    "        x = F.relu(self.input(x))\n",
    "        for i in range(self.hidden_layers):\n",
    "            x = F.relu(self.hidden[i](x))\n",
    "        \n",
    "        advantage = F.relu(self.advantage(x))\n",
    "        x = self.output(x)\n",
    "        return x + advantage - advantage.mean()\n"
   ]
  },
  {
   "cell_type": "code",
   "execution_count": 11,
   "metadata": {},
   "outputs": [],
   "source": [
    "class DuelingDQN:\n",
    "    def __init__(self, env, n_episodes=3000, max_env_steps=None, gamma=0.9,\n",
    "                 epsilon=0.5, epsilon_min=0.05, epsilon_log_decay=0.001, alpha=1e-3,\n",
    "                 memory_size=10000, batch_size=256, c=10, hidden_layers=2, hidden_size=24,\n",
    "                 render=False, debug=False):\n",
    "\n",
    "        self.memory = ReplayMemory(capacity=memory_size)\n",
    "        self.env = env\n",
    "\n",
    "        # hyper-parameter setting\n",
    "        self.gamma = gamma\n",
    "        self.epsilon = epsilon\n",
    "        self.epsilon_min = epsilon_min\n",
    "        self.epsilon_decay = epsilon_log_decay\n",
    "        self.alpha = alpha\n",
    "        self.n_episodes = n_episodes\n",
    "        self.batch_size = batch_size\n",
    "        self.c = c\n",
    "        if max_env_steps is not None:\n",
    "            self.env._max_episode_steps = max_env_steps\n",
    "        self.observation_space_size = env.observation_space.shape[0]\n",
    "        self.action_space_size = env.action_space.n\n",
    "\n",
    "        self.render = render\n",
    "        self.debug = debug\n",
    "        if debug:\n",
    "            self.loss_list = []\n",
    "        # if gpu is to be used\n",
    "        self.device = torch.device(\"cuda\" if torch.cuda.is_available() else \"cpu\")\n",
    "\n",
    "        # Init model 1\n",
    "        # Use the nn package to define our model as a sequence of layers. nn.Sequential\n",
    "        # is a Module which contains other Modules, and applies them in sequence to\n",
    "        # produce its output. Each Linear Module computes output from input using a\n",
    "        # linear function, and holds internal Tensors for its weight and bias.\n",
    "        # After constructing the model we use the .to() method to move it to the\n",
    "        # desired device.\n",
    "        self.model = DuelingNet(self.observation_space_size, self.action_space_size,\n",
    "                                hidden_layers, hidden_size).to(self.device)\n",
    "        self.target = DuelingNet(self.observation_space_size, self.action_space_size,\n",
    "                                 hidden_layers, hidden_size).to(self.device)\n",
    "        self.target.load_state_dict(self.model.state_dict())\n",
    "        self.target.eval()\n",
    "        self.model.train()\n",
    "\n",
    "        # The nn package also contains definitions of popular loss functions; in this\n",
    "        # case we will use Mean Squared Error (MSE) as our loss function. Setting\n",
    "        # reduction='sum' means that we are computing the *sum* of squared errors rather\n",
    "        # than the mean; this is for consistency with the examples above where we\n",
    "        # manually compute the loss, but in practice it is more common to use mean\n",
    "        # squared error as a loss by setting reduction='elementwise_mean'.\n",
    "        self.loss_fn = torch.nn.MSELoss()\n",
    "\n",
    "        # Use the optim package to define an Optimizer that will update the weights of\n",
    "        # the model for us. Here we will use Adam; the optim package contains many other\n",
    "        # optimization algoriths. The first argument to the Adam constructor tells the\n",
    "        # optimizer which Tensors it should update.\n",
    "        self.optimizer = torch.optim.Adam(self.model.parameters(), lr=alpha)\n",
    "\n",
    "    def choose_action(self, state, epsilon):\n",
    "        \"\"\"Chooses the next action according to the model trained and the policy\"\"\"\n",
    "\n",
    "        # exploits the current knowledge if the random number > epsilon, otherwise explores\n",
    "        if np.random.random() <= epsilon:\n",
    "            return self.env.action_space.sample()\n",
    "        else:\n",
    "            with torch.no_grad():\n",
    "                q = self.model(state)\n",
    "                argmax = torch.argmax(q)\n",
    "                return argmax.item()\n",
    "\n",
    "    def get_epsilon(self, episode):\n",
    "        \"\"\"Returns an epsilon that decays over time until a minimum epsilon value is reached; in this case the minimum\n",
    "        value is returned\"\"\"\n",
    "        return max(self.epsilon_min, self.epsilon * math.exp(-self.epsilon_decay * episode))\n",
    "\n",
    "    def replay(self):\n",
    "        \"\"\"Previously stored (s, a, r, s') tuples are replayed (that is, are added into the model). The size of the\n",
    "        tuples added is determined by the batch_size parameter\"\"\"\n",
    "\n",
    "        transitions, _ = self.memory.sample(self.batch_size)\n",
    "        # Transpose the batch (see https://stackoverflow.com/a/19343/3343043 for\n",
    "        # detailed explanation). This converts batch-array of Transitions\n",
    "        # to Transition of batch-arrays.\n",
    "        batch = Transition(*zip(*transitions))\n",
    "        # Compute a mask of non-final states and concatenate the batch elements\n",
    "        # (a final state would've been the one after which simulation ended)\n",
    "        non_final_next_states = torch.stack([s for s in batch.next_state if s is not None])\n",
    "\n",
    "        non_final_mask = torch.stack(batch.done)\n",
    "        state_batch = torch.stack(batch.state)\n",
    "        action_batch = torch.stack(batch.action)\n",
    "        reward_batch = torch.stack(batch.reward)\n",
    "\n",
    "        # Compute Q(s_t, a) - the model computes Q(s_t), then we select the\n",
    "        # columns of actions taken. These are the actions which would've been taken\n",
    "        # for each batch state according to policy_net\n",
    "        state_action_values = self.model(state_batch).gather(1, action_batch)\n",
    "\n",
    "        # Compute V(s_{t+1}) for all next states.\n",
    "        # Expected values of actions for non_final_next_states are computed based\n",
    "        # on the \"older\" target_net; selecting their best reward with max(1)[0].\n",
    "        # This is merged based on the mask, such that we'll have either the expected\n",
    "        # state value or 0 in case the state was final.\n",
    "        with torch.no_grad():\n",
    "            next_state_values = torch.zeros(self.batch_size, device=self.device)\n",
    "            next_state_values[non_final_mask] = self.target(non_final_next_states).max(1)[0].detach()\n",
    "            # Compute the expected Q values\n",
    "            expected_state_action_values = reward_batch + self.gamma * next_state_values\n",
    "\n",
    "        # Compute loss\n",
    "        loss = self.loss_fn(state_action_values, expected_state_action_values.unsqueeze(1))\n",
    "\n",
    "        if self.debug:\n",
    "            self.loss_list.append(loss)\n",
    "        # Optimize the model\n",
    "        self.optimizer.zero_grad()\n",
    "        loss.backward()\n",
    "        for param in self.model.parameters():\n",
    "            param.grad.data.clamp_(-1, 1)\n",
    "        self.optimizer.step()\n",
    "\n",
    "    def run(self):\n",
    "        \"\"\"Main loop that controls the execution of the agent\"\"\"\n",
    "\n",
    "        scores = []\n",
    "        mean_scores = []\n",
    "        j = 0  # used for model2 update every c steps\n",
    "        for e in range(self.n_episodes):\n",
    "            state = self.env.reset()\n",
    "            state = torch.tensor(state, device=self.device, dtype=torch.float)\n",
    "            done = False\n",
    "            cum_reward = 0\n",
    "            while not done:\n",
    "                action = self.choose_action(\n",
    "                    state,\n",
    "                    self.get_epsilon(e))\n",
    "                next_state, reward, done, _ = self.env.step(action)\n",
    "                next_state = torch.tensor(next_state, device=self.device, dtype=torch.float)\n",
    "\n",
    "                cum_reward += reward\n",
    "                self.memory.push(\n",
    "                    state,  #Converted to tensor in choose_action method\n",
    "                    torch.tensor([action], device=self.device),\n",
    "                    None if done else next_state,\n",
    "                    torch.tensor(reward, device=self.device).clamp_(-1, 1),\n",
    "                    torch.tensor(not done, device=self.device, dtype=torch.bool))\n",
    "\n",
    "                if self.memory.__len__() >= self.batch_size:\n",
    "                    self.replay()\n",
    "\n",
    "                state = next_state\n",
    "                j += 1\n",
    "\n",
    "                # update second model\n",
    "                if j % self.c == 0:\n",
    "                    self.target.load_state_dict(self.model.state_dict())\n",
    "                    self.target.eval()\n",
    "\n",
    "            scores.append(cum_reward)\n",
    "            mean_score = np.mean(scores)\n",
    "            mean_scores.append(mean_score)\n",
    "            if e % 100 == 0 and self.debug:\n",
    "                print('[Episode {}] - Mean reward {}.'.format(e, mean_score))\n",
    "\n",
    "        # noinspection PyUnboundLocalVariable\n",
    "        print('[Episode {}] - Mean reward {}.'.format(e, mean_score))\n",
    "        return scores, mean_scores\n",
    "\n",
    "    def save(self, path):\n",
    "        torch.save(self.model, path)\n",
    "\n",
    "    def load(self, path):\n",
    "        self.model = torch.load(path)\n"
   ]
  },
  {
   "cell_type": "code",
   "execution_count": 12,
   "metadata": {},
   "outputs": [
    {
     "name": "stdout",
     "output_type": "stream",
     "text": [
      "[Episode 0] - Mean reward 10.0.\n",
      "[Episode 100] - Mean reward 57.396039603960396.\n",
      "[Episode 200] - Mean reward 59.81592039800995.\n",
      "[Episode 300] - Mean reward 60.72425249169435.\n",
      "[Episode 400] - Mean reward 58.55361596009975.\n",
      "[Episode 500] - Mean reward 56.31936127744511.\n",
      "[Episode 600] - Mean reward 57.33277870216306.\n",
      "[Episode 700] - Mean reward 59.42225392296719.\n",
      "[Episode 800] - Mean reward 62.410736579275905.\n",
      "[Episode 900] - Mean reward 64.91675915649279.\n",
      "[Episode 1000] - Mean reward 66.51848151848152.\n",
      "[Episode 1100] - Mean reward 68.06085376930064.\n",
      "[Episode 1200] - Mean reward 69.96253122398002.\n",
      "[Episode 1300] - Mean reward 71.21137586471944.\n",
      "[Episode 1400] - Mean reward 73.12062812276945.\n",
      "[Episode 1500] - Mean reward 77.68487674883411.\n",
      "[Episode 1600] - Mean reward 80.59900062460962.\n",
      "[Episode 1700] - Mean reward 82.95061728395062.\n",
      "[Episode 1800] - Mean reward 86.32204330927263.\n",
      "[Episode 1900] - Mean reward 88.21883219358233.\n",
      "[Episode 2000] - Mean reward 89.67816091954023.\n",
      "[Episode 2100] - Mean reward 92.46168491194669.\n",
      "[Episode 2200] - Mean reward 94.10495229441163.\n",
      "[Episode 2300] - Mean reward 96.71751412429379.\n",
      "[Episode 2400] - Mean reward 99.22324031653477.\n",
      "[Episode 2499] - Mean reward 100.8136.\n"
     ]
    }
   ],
   "source": [
    "agent = DuelingDQN(gym.make('CartPole-v0'), n_episodes=n_episodes, debug=True)\n",
    "scores_dueling_DQN, mean_dueling_DQN = agent.run()\n"
   ]
  },
  {
   "cell_type": "code",
   "execution_count": 13,
   "metadata": {},
   "outputs": [
    {
     "data": {
      "image/png": "[encoded data removed]",
      "text/plain": [
       "<Figure size 432x288 with 1 Axes>"
      ]
     },
     "metadata": {
      "needs_background": "light"
     },
     "output_type": "display_data"
    }
   ],
   "source": [
    "plt.plot(np.array(scores_dueling_DQN), label='DuelingDQN', c='#5c8cbc')\n",
    "plt.ylim(0, 200)\n",
    "plt.title('Recompensa por episodio')\n",
    "plt.legend(loc='upper left')\n",
    "plt.show()\n"
   ]
  },
  {
   "cell_type": "code",
   "execution_count": 14,
   "metadata": {},
   "outputs": [
    {
     "data": {
      "image/png": "[encoded data removed]",
      "text/plain": [
       "<Figure size 432x288 with 1 Axes>"
      ]
     },
     "metadata": {
      "needs_background": "light"
     },
     "output_type": "display_data"
    }
   ],
   "source": [
    "plt.plot(np.array(mean_dueling_DQN), label='DuelingDQN', c='#5c8cbc')\n",
    "plt.ylim(0, 200)\n",
    "plt.title('Recompensa promedio por episodio')\n",
    "plt.legend(loc='upper left')\n",
    "plt.show()\n"
   ]
  },
  {
   "cell_type": "markdown",
   "metadata": {},
   "source": [
    "## Implementamos los modelos definidos anteriormente con otros entornos"
   ]
  },
  {
   "cell_type": "markdown",
   "metadata": {},
   "source": [
    "El entorno que utilizaremos en este caso es el de Acrobot-v1"
   ]
  },
  {
   "cell_type": "markdown",
   "metadata": {},
   "source": [
    "### Acrobot-v1 con DDQN"
   ]
  },
  {
   "cell_type": "code",
   "execution_count": 15,
   "metadata": {},
   "outputs": [
    {
     "name": "stdout",
     "output_type": "stream",
     "text": [
      "[Episode 0] - Mean reward -500.0.\n",
      "[Episode 100] - Mean reward -294.2277227722772.\n",
      "[Episode 200] - Mean reward -258.16915422885575.\n",
      "[Episode 300] - Mean reward -253.7607973421927.\n",
      "[Episode 400] - Mean reward -252.7057356608479.\n",
      "[Episode 500] - Mean reward -244.42914171656687.\n",
      "[Episode 600] - Mean reward -246.67720465890184.\n",
      "[Episode 700] - Mean reward -240.47503566333808.\n",
      "[Episode 800] - Mean reward -231.2322097378277.\n",
      "[Episode 900] - Mean reward -222.07436182019978.\n",
      "[Episode 1000] - Mean reward -218.37462537462537.\n",
      "[Episode 1100] - Mean reward -216.5431425976385.\n",
      "[Episode 1200] - Mean reward -218.28226477935056.\n",
      "[Episode 1300] - Mean reward -222.48962336664104.\n",
      "[Episode 1400] - Mean reward -220.23197715917203.\n",
      "[Episode 1500] - Mean reward -216.1292471685543.\n",
      "[Episode 1600] - Mean reward -212.92004996876952.\n",
      "[Episode 1700] - Mean reward -210.82422104644326.\n",
      "[Episode 1800] - Mean reward -211.20655191560243.\n",
      "[Episode 1900] - Mean reward -212.58442924776435.\n",
      "[Episode 2000] - Mean reward -212.73313343328337.\n",
      "[Episode 2100] - Mean reward -211.67301285102332.\n",
      "[Episode 2200] - Mean reward -210.76692412539754.\n",
      "[Episode 2300] - Mean reward -210.49760973489788.\n",
      "[Episode 2400] - Mean reward -210.0499791753436.\n",
      "[Episode 2499] - Mean reward -208.2772.\n"
     ]
    }
   ],
   "source": [
    "agent = DDQN(gym.make('Acrobot-v1'), n_episodes=n_episodes, debug=True)\n",
    "scores_DDQN, mean_DDQN = agent.run()\n"
   ]
  },
  {
   "cell_type": "code",
   "execution_count": 16,
   "metadata": {},
   "outputs": [
    {
     "data": {
      "image/png": "[encoded data removed]",
      "text/plain": [
       "<Figure size 432x288 with 1 Axes>"
      ]
     },
     "metadata": {
      "needs_background": "light"
     },
     "output_type": "display_data"
    }
   ],
   "source": [
    "plt.plot(np.array(scores_DDQN), label='DDQN', c='#5c8cbc')\n",
    "plt.ylim(-500, 0)\n",
    "plt.title('Recompensa por episodio')\n",
    "plt.legend(loc='upper left')\n",
    "plt.show()\n"
   ]
  },
  {
   "cell_type": "code",
   "execution_count": 17,
   "metadata": {},
   "outputs": [
    {
     "data": {
      "image/png": "[encoded data removed]",
      "text/plain": [
       "<Figure size 432x288 with 1 Axes>"
      ]
     },
     "metadata": {
      "needs_background": "light"
     },
     "output_type": "display_data"
    }
   ],
   "source": [
    "plt.plot(np.array(mean_DDQN), label='DDQN', c='#5c8cbc')\n",
    "plt.ylim(-500, 0)\n",
    "plt.title('Recompensa promedio por episodio')\n",
    "plt.legend(loc='upper left')\n",
    "plt.show()\n"
   ]
  },
  {
   "cell_type": "markdown",
   "metadata": {},
   "source": [
    "### Acrobot-v1 con Dueling DQN"
   ]
  },
  {
   "cell_type": "code",
   "execution_count": 18,
   "metadata": {},
   "outputs": [
    {
     "name": "stdout",
     "output_type": "stream",
     "text": [
      "[Episode 0] - Mean reward -500.0.\n",
      "[Episode 100] - Mean reward -328.5049504950495.\n",
      "[Episode 200] - Mean reward -323.76616915422886.\n",
      "[Episode 300] - Mean reward -300.2126245847176.\n",
      "[Episode 400] - Mean reward -282.25187032418955.\n",
      "[Episode 500] - Mean reward -273.7245508982036.\n",
      "[Episode 600] - Mean reward -262.56738768718805.\n",
      "[Episode 700] - Mean reward -259.7589158345221.\n",
      "[Episode 800] - Mean reward -259.2534332084894.\n",
      "[Episode 900] - Mean reward -257.0610432852386.\n",
      "[Episode 1000] - Mean reward -257.3736263736264.\n",
      "[Episode 1100] - Mean reward -257.755676657584.\n",
      "[Episode 1200] - Mean reward -254.30474604496254.\n",
      "[Episode 1300] - Mean reward -250.9607993850884.\n",
      "[Episode 1400] - Mean reward -249.80942184154176.\n",
      "[Episode 1500] - Mean reward -250.26382411725515.\n",
      "[Episode 1600] - Mean reward -252.08307307932543.\n",
      "[Episode 1700] - Mean reward -251.73015873015873.\n",
      "[Episode 1800] - Mean reward -250.97779011660188.\n",
      "[Episode 1900] - Mean reward -250.10099947396108.\n",
      "[Episode 2000] - Mean reward -251.38280859570216.\n",
      "[Episode 2100] - Mean reward -254.79819133745835.\n",
      "[Episode 2200] - Mean reward -253.23398455247616.\n",
      "[Episode 2300] - Mean reward -249.3263798348544.\n",
      "[Episode 2400] - Mean reward -247.86214077467721.\n",
      "[Episode 2499] - Mean reward -247.6716.\n"
     ]
    }
   ],
   "source": [
    "agent = DuelingDQN(gym.make('Acrobot-v1'), n_episodes=n_episodes, debug=True)\n",
    "scores_dueling_DQN, mean_dueling_DQN = agent.run()\n"
   ]
  },
  {
   "cell_type": "code",
   "execution_count": 19,
   "metadata": {},
   "outputs": [
    {
     "data": {
      "image/png": "[encoded data removed]",
      "text/plain": [
       "<Figure size 432x288 with 1 Axes>"
      ]
     },
     "metadata": {
      "needs_background": "light"
     },
     "output_type": "display_data"
    }
   ],
   "source": [
    "plt.plot(np.array(scores_dueling_DQN), label='DuelingDQN', c='#5c8cbc')\n",
    "plt.ylim(-500, 0)\n",
    "plt.title('Recompensa por episodio')\n",
    "plt.legend(loc='upper left')\n",
    "plt.show()\n"
   ]
  },
  {
   "cell_type": "raw",
   "metadata": {},
   "source": [
    "plt.plot(np.array(mean_dueling_DQN), label='DuelingDQN', c='#5c8cbc')\n",
    "plt.ylim(-500, 0)\n",
    "plt.title('Recompensa promedio por episodio')\n",
    "plt.legend(loc='upper left')\n",
    "plt.show()\n"
   ]
  },
  {
   "cell_type": "markdown",
   "metadata": {},
   "source": [
    "### "
   ]
  }
 ],
 "metadata": {
  "kernelspec": {
   "display_name": "Python 3",
   "language": "python",
   "name": "python3"
  },
  "language_info": {
   "codemirror_mode": {
    "name": "ipython",
    "version": 3
   },
   "file_extension": ".py",
   "mimetype": "text/x-python",
   "name": "python",
   "nbconvert_exporter": "python",
   "pygments_lexer": "ipython3",
   "version": "3.7.3"
  }
 },
 "nbformat": 4,
 "nbformat_minor": 4
}
