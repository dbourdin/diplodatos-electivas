{
 "cells": [
  {
   "cell_type": "markdown",
   "metadata": {},
   "source": [
    "## Ejemplo 1: The Cliff. \n"
   ]
  },
  {
   "cell_type": "markdown",
   "metadata": {},
   "source": [
    "![](images/cliffwalking.png)\n",
    "\n",
    "donde S= starting point, G= goal\n",
    "\n",
    "(imagen de Sutton y Barto, 2018)"
   ]
  },
  {
   "cell_type": "markdown",
   "metadata": {},
   "source": [
    "Descripción del entorno:\n",
    "\n",
    "Acciones:\n",
    "\n",
    "* ^ - Arriba\n",
    "* v - Abajo\n",
    "* \\> - Derecha\n",
    "* < - Izquierda\n",
    "\n",
    "Función de recompensa:\n",
    "\n",
    "* $-1$ en todos los demás estados \n",
    "* $-100$ en el acantilado\n",
    "\n",
    "Nota: caer en el acantilado devuelve al agente al estado inicial en un mismo episodio"
   ]
  },
  {
   "cell_type": "markdown",
   "metadata": {},
   "source": [
    "Vemos los bloques básicos de nuestro agente"
   ]
  },
  {
   "cell_type": "markdown",
   "metadata": {},
   "source": [
    "Primero, importamos:"
   ]
  },
  {
   "cell_type": "code",
   "execution_count": 1,
   "metadata": {},
   "outputs": [],
   "source": [
    "import matplotlib.pyplot as plt\n",
    "import itertools\n",
    "import gym\n",
    "import numpy as np\n",
    "from agents.utils.plotting import plot_reward_per_episode, plot_steps_per_episode, plot_steps_per_episode_smooth, draw_value_matrix"
   ]
  },
  {
   "cell_type": "markdown",
   "metadata": {},
   "source": [
    "Definimos el método de elección de acciones. En este caso el mismo utiliza la política de exploración $\\epsilon$-greedy."
   ]
  },
  {
   "cell_type": "code",
   "execution_count": 2,
   "metadata": {},
   "outputs": [],
   "source": [
    "def choose_action(state):\n",
    "    \"\"\"\n",
    "    Chooses an action according to the learning previously performed \n",
    "    using an epsilon-greedy exploration policy\n",
    "    \"\"\"\n",
    "    q_values = [q.get((state, a), 0.0) for a in actions]\n",
    "    max_q = max(q_values)\n",
    "\n",
    "    if random_state.uniform() < epsilon:\n",
    "        return random_state.choice(actions)  # a random action is selected\n",
    "\n",
    "    count = q_values.count(max_q)\n",
    "\n",
    "    # In case there're several state-action max values\n",
    "    # we select a random one among them\n",
    "    if count > 1:\n",
    "        best = [i for i in range(len(actions)) if q_values[i] == max_q]\n",
    "        i = random_state.choice(best)\n",
    "    else:\n",
    "        i = q_values.index(max_q)\n",
    "\n",
    "    return actions[i]"
   ]
  },
  {
   "cell_type": "markdown",
   "metadata": {},
   "source": [
    "Finalmente, definimos el método principal de iteraciones. "
   ]
  },
  {
   "cell_type": "code",
   "execution_count": 3,
   "metadata": {},
   "outputs": [],
   "source": [
    "def run():\n",
    "    \"\"\"\n",
    "    Runs the reinforcement learning agent with a given configuration.\n",
    "    \"\"\"\n",
    "    # list that contains the amount of time-steps of the episode. It is used as a way to score the performance of\n",
    "    # the agent.\n",
    "    timesteps_of_episode = []\n",
    "    # list that contains the amount of reward given to the agent in each episode\n",
    "    reward_of_episode = []\n",
    "\n",
    "    for i_episode in range(episodes_to_run):\n",
    "        # an instance of an episode is run until it fails or until it reaches 200 time-steps\n",
    "\n",
    "        # resets the environment, obtaining the first state observation\n",
    "        state = env.reset()\n",
    "\n",
    "        episode_reward = 0\n",
    "        done = False\n",
    "        t = 0\n",
    "\n",
    "        # Pick an action based on the current state\n",
    "#         action = random_state.choice(actions)\n",
    "        action = choose_action(state)\n",
    "        \n",
    "        while not done:\n",
    "\n",
    "            # Execute the action and get feedback\n",
    "            next_state, reward, done, info = env.step(action)\n",
    "            \n",
    "#             next_action = random_state.choice(actions)\n",
    "            next_action = choose_action(next_state)\n",
    "\n",
    "            episode_reward += reward\n",
    "\n",
    "            if not done and t < 2000:  # if the algorithm does not converge, it stops after 2000 timesteps\n",
    "                learn(state, action, reward, next_state, next_action)\n",
    "                state = next_state\n",
    "                action = next_action\n",
    "            else:\n",
    "                done = True  # done is ensured to be True (in the case the algorithm did not reach convergence)\n",
    "                learn(state, action, reward, next_state, next_action)\n",
    "                timesteps_of_episode = np.append(timesteps_of_episode, [int(t + 1)])\n",
    "                reward_of_episode = np.append(reward_of_episode, max(episode_reward, -100))\n",
    "\n",
    "            t += 1\n",
    "\n",
    "    return reward_of_episode.mean(), timesteps_of_episode, reward_of_episode"
   ]
  },
  {
   "cell_type": "markdown",
   "metadata": {},
   "source": [
    "Definidos los métodos básicos, procedemos a instanciar a nuestro agente."
   ]
  },
  {
   "cell_type": "markdown",
   "metadata": {},
   "source": [
    "## Actividades\n",
    "\n",
    "1. Implementar y ejecutar el algoritmo SARSA en \"The Cliff\".\n",
    "\n",
    "2. Implementar y ejecutar el algoritmo Q-Learning en \"The Cliff\". ¿Cómo converge con respecto a SARSA? ¿A qué se debe? Comentar.\n",
    "\n",
    "3. Ejecutando con distintos híper-parámetros, realizar una breve descripción sobre cómo afectan a la convergencia los distintos valores de $\\alpha$, $\\epsilon$ y $\\gamma$.\n",
    "\n",
    "4. (Opcional) Implementar política de exploración Softmax, dada por $$\\pi(a \\mid s) = \\frac{e^{Q(s,a)/\\tau}}{\\sum_{a'}e^{Q(s,a')/\\tau}}$$\n",
    "\n",
    "\n",
    "\n",
    "Para dejar el lab listo para su corrección, dejar link a repo de github con un notebook ejecutando el agente en la planilla enviada en Slack."
   ]
  },
  {
   "cell_type": "markdown",
   "metadata": {},
   "source": [
    "### Implementamos Q Learn"
   ]
  },
  {
   "cell_type": "code",
   "execution_count": 4,
   "metadata": {},
   "outputs": [],
   "source": [
    "# Q-Learn\n",
    "def q_learn(state, action, reward, next_state, next_action):\n",
    "    \"\"\"\n",
    "    Performs a Q-Learn update for a given state transition\n",
    "    \"\"\"\n",
    "    predict = q.get((state, action), 0.0)\n",
    "    target = np.max([q.get((next_state, action), 0.0) for action in actions])\n",
    "    q[state, action] = predict + alpha * (reward + gamma * target - predict)"
   ]
  },
  {
   "cell_type": "code",
   "execution_count": 5,
   "metadata": {},
   "outputs": [],
   "source": [
    "q = {}\n",
    "\n",
    "# definimos sus híper-parámetros básicos\n",
    "\n",
    "alpha = 0.1  # porcentaje de aprendizaje (target-predict)\n",
    "gamma = 1  # 1 prioriza el estado final\n",
    "epsilon = 0.01  # exploracion\n",
    "tau = 25\n",
    "learn = q_learn # Algoritmo utilizado para el aprendizaje (sarsa_learn/q_learn)\n",
    "\n",
    "episodes_to_run = 3000\n",
    "\n",
    "env = gym.make(\"CliffWalking-v0\")\n",
    "actions = range(env.action_space.n)\n",
    "\n",
    "# se declara una semilla aleatoria\n",
    "random_state = np.random.RandomState(42)"
   ]
  },
  {
   "cell_type": "markdown",
   "metadata": {},
   "source": [
    "Ya instanciado, ejecutamos nuestro agente"
   ]
  },
  {
   "cell_type": "code",
   "execution_count": 6,
   "metadata": {},
   "outputs": [],
   "source": [
    "avg_steps_per_episode, timesteps_ep, reward_ep = run()"
   ]
  },
  {
   "cell_type": "markdown",
   "metadata": {},
   "source": [
    "### Análisis de la ejecución del agente\n",
    "\n",
    "#### Análisis de convergencia\n",
    "\n",
    "A diferencia de lo que sucede en el aprendizaje supervisado, en el aprendizaje por refuerzos el rendimiento se evalúa por una función específica que es la función de recompensa. En la práctica, la función de recompensa puede ser externa (y provista por el entorno) o bien puede ser una función creada por diseño (a modo de dirigir el agente hacia lo que por diseño se considera mejor, en nuestro ejemplo podría ser con una recompensa de $+1$ cada vez que el agente llega al estado objetivo). Esto se conoce como *reward shaping*, y hay que tener mucho cuidado con los posibles efectos secundarios de su uso.\n",
    "\n",
    "Como el objetivo de RL es maximizar la recompensa obtenida, es posible utilizar la información sobre la obtención de la recompensas en cada time-step o episodio para evaluar el rendimiento parcial del agente (esto depende mucho de la particularidad de la distribución de la recompensa para el problema tratado)."
   ]
  },
  {
   "cell_type": "markdown",
   "metadata": {},
   "source": [
    "Para analizar la ejecución del agente, vamos a ver cómo se desempeñó el mismo en dos curvas:\n",
    "\n",
    "* Recompensa obtenida en cada episodio: nos dirá cuánta recompensa obtuvo el agente sumando cada una de recompensas individuales de cada episodio. Con esta medida podremos tener una noción de cómo se desempeñó esquivando el acantilado y llegando lo antes posible a la meta.\n",
    "\n",
    "* Pasos transcurridos en cada episodio: indicará cuántos pasos le ha llevado al agente la ejecución del episodio.\n",
    "\n",
    "Se estila suavizar ambas curvas para apreciar mejor su progresión (aunque a veces suele analizarse la curva de pasos por episodio sin suavizar)."
   ]
  },
  {
   "cell_type": "markdown",
   "metadata": {},
   "source": [
    "Veamos recompensa por episodio (recordar que en este entorno cada paso otorga una recompensa de $-1$ excepto al caer al acantilado, donde la recompensa es de $-100$)"
   ]
  },
  {
   "cell_type": "code",
   "execution_count": 7,
   "metadata": {},
   "outputs": [
    {
     "data": {
      "image/png": "[encoded data removed]",
      "text/plain": [
       "<Figure size 432x288 with 1 Axes>"
      ]
     },
     "metadata": {
      "needs_background": "light"
     },
     "output_type": "display_data"
    }
   ],
   "source": [
    "plot_reward_per_episode(reward_ep)"
   ]
  },
  {
   "cell_type": "markdown",
   "metadata": {},
   "source": [
    "Veamos pasos por episodio"
   ]
  },
  {
   "cell_type": "code",
   "execution_count": 8,
   "metadata": {},
   "outputs": [
    {
     "data": {
      "image/png": "[encoded data removed]",
      "text/plain": [
       "<Figure size 432x288 with 1 Axes>"
      ]
     },
     "metadata": {
      "needs_background": "light"
     },
     "output_type": "display_data"
    }
   ],
   "source": [
    "plot_steps_per_episode(timesteps_ep)"
   ]
  },
  {
   "cell_type": "markdown",
   "metadata": {},
   "source": [
    "Suavizando..."
   ]
  },
  {
   "cell_type": "code",
   "execution_count": 9,
   "metadata": {},
   "outputs": [
    {
     "data": {
      "image/png": "[encoded data removed]",
      "text/plain": [
       "<Figure size 432x288 with 1 Axes>"
      ]
     },
     "metadata": {
      "needs_background": "light"
     },
     "output_type": "display_data"
    }
   ],
   "source": [
    "plot_steps_per_episode_smooth(timesteps_ep)"
   ]
  },
  {
   "cell_type": "markdown",
   "metadata": {},
   "source": [
    "#### Análisis de matriz de acción-valor y política óptima\n",
    "\n",
    "Siendo que este es un ejemplo tabular y de pocos estados / acciones, es posible realizar un análisis de convergencia desde otro punto de vista: desde el valor de la función $Q(s,a)$ para la mejor acción de cada estado, al finalizar el entrenamiento del agente, (sería la acción que el agente ejecutaría en cada estado bajo una política *greedy*). Ambos nos brindarán información sobre la convergencia alcanzada por el agente.\n",
    "\n",
    "Tener en cuenta que este análisis se hace principalmente con fines educativos, para entornos más complejos el mismo puede no ser factible. En tales casos, un análisis alternativo podría consistir en hacer que el agente ejecute su política para la que fue entrenado, para hacer una evaluación a partir del comportamiento del mismo (esto último sería el *test de la política*, frente al *entrenamiento de la política* previo)."
   ]
  },
  {
   "cell_type": "code",
   "execution_count": 10,
   "metadata": {},
   "outputs": [
    {
     "data": {
      "image/png": "[encoded data removed]",
      "text/plain": [
       "<Figure size 432x288 with 2 Axes>"
      ]
     },
     "metadata": {
      "needs_background": "light"
     },
     "output_type": "display_data"
    },
    {
     "name": "stdout",
     "output_type": "stream",
     "text": [
      "\n",
      " Matriz de mejor acción-valor (en números): \n",
      "\n",
      " [[ -11.02577806  -10.55761741   -9.93048491   -9.20011389   -8.45676101\n",
      "    -7.67008729   -6.88260399   -6.07238406   -5.25684643   -4.44694076\n",
      "    -3.64362843   -2.8983639 ]\n",
      " [ -11.41140793  -10.85165676  -10.07168893   -9.25619838   -8.45029968\n",
      "    -7.59360728   -6.71219289   -5.79685066   -4.88466334   -3.9492894\n",
      "    -2.98396789   -1.99977675]\n",
      " [ -12.          -11.          -10.           -9.           -8.\n",
      "    -7.           -6.           -5.           -4.           -3.\n",
      "    -2.           -1.        ]\n",
      " [ -13.         -100.         -100.         -100.         -100.\n",
      "  -100.         -100.         -100.         -100.         -100.\n",
      "  -100.           -1.        ]]\n"
     ]
    }
   ],
   "source": [
    "draw_value_matrix(q)"
   ]
  },
  {
   "cell_type": "code",
   "execution_count": 11,
   "metadata": {},
   "outputs": [],
   "source": [
    "env.close()"
   ]
  },
  {
   "cell_type": "markdown",
   "metadata": {},
   "source": [
    "### Implementamos SARSA Learn"
   ]
  },
  {
   "cell_type": "code",
   "execution_count": 12,
   "metadata": {},
   "outputs": [],
   "source": [
    "# SARSA-Learn\n",
    "def sarsa_learn(state, action, reward, next_state, next_action):\n",
    "    \"\"\"\n",
    "    Performs a SARSA update for a given state transition\n",
    "    \"\"\"\n",
    "    predict = q.get((state, action), 0.0)\n",
    "    target = reward + gamma * q.get((next_state, next_action), 0.0)\n",
    "    q[state, action] = predict + alpha * (target - predict)"
   ]
  },
  {
   "cell_type": "code",
   "execution_count": 13,
   "metadata": {},
   "outputs": [],
   "source": [
    "q = {}\n",
    "\n",
    "# definimos sus híper-parámetros básicos\n",
    "\n",
    "alpha = 0.1  # porcentaje de aprendizaje (target-predict)\n",
    "gamma = 1  # 1 prioriza el estado final\n",
    "epsilon = 0.01  # exploracion\n",
    "tau = 25\n",
    "learn = sarsa_learn # Algoritmo utilizado para el aprendizaje (sarsa_learn/q_learn)\n",
    "\n",
    "episodes_to_run = 3000\n",
    "\n",
    "env = gym.make(\"CliffWalking-v0\")\n",
    "actions = range(env.action_space.n)\n",
    "\n",
    "# se declara una semilla aleatoria\n",
    "random_state = np.random.RandomState(42)"
   ]
  },
  {
   "cell_type": "markdown",
   "metadata": {},
   "source": [
    "Ya instanciado, ejecutamos nuestro agente"
   ]
  },
  {
   "cell_type": "code",
   "execution_count": 14,
   "metadata": {},
   "outputs": [],
   "source": [
    "avg_steps_per_episode, timesteps_ep, reward_ep = run()"
   ]
  },
  {
   "cell_type": "markdown",
   "metadata": {},
   "source": [
    "### Análisis de la ejecución del agente\n",
    "\n",
    "#### Análisis de convergencia\n",
    "\n",
    "A diferencia de lo que sucede en el aprendizaje supervisado, en el aprendizaje por refuerzos el rendimiento se evalúa por una función específica que es la función de recompensa. En la práctica, la función de recompensa puede ser externa (y provista por el entorno) o bien puede ser una función creada por diseño (a modo de dirigir el agente hacia lo que por diseño se considera mejor, en nuestro ejemplo podría ser con una recompensa de $+1$ cada vez que el agente llega al estado objetivo). Esto se conoce como *reward shaping*, y hay que tener mucho cuidado con los posibles efectos secundarios de su uso.\n",
    "\n",
    "Como el objetivo de RL es maximizar la recompensa obtenida, es posible utilizar la información sobre la obtención de la recompensas en cada time-step o episodio para evaluar el rendimiento parcial del agente (esto depende mucho de la particularidad de la distribución de la recompensa para el problema tratado)."
   ]
  },
  {
   "cell_type": "markdown",
   "metadata": {},
   "source": [
    "Para analizar la ejecución del agente, vamos a ver cómo se desempeñó el mismo en dos curvas:\n",
    "\n",
    "* Recompensa obtenida en cada episodio: nos dirá cuánta recompensa obtuvo el agente sumando cada una de recompensas individuales de cada episodio. Con esta medida podremos tener una noción de cómo se desempeñó esquivando el acantilado y llegando lo antes posible a la meta.\n",
    "\n",
    "* Pasos transcurridos en cada episodio: indicará cuántos pasos le ha llevado al agente la ejecución del episodio.\n",
    "\n",
    "Se estila suavizar ambas curvas para apreciar mejor su progresión (aunque a veces suele analizarse la curva de pasos por episodio sin suavizar)."
   ]
  },
  {
   "cell_type": "markdown",
   "metadata": {},
   "source": [
    "Veamos recompensa por episodio (recordar que en este entorno cada paso otorga una recompensa de $-1$ excepto al caer al acantilado, donde la recompensa es de $-100$)"
   ]
  },
  {
   "cell_type": "code",
   "execution_count": 15,
   "metadata": {},
   "outputs": [
    {
     "data": {
      "image/png": "[encoded data removed]",
      "text/plain": [
       "<Figure size 432x288 with 1 Axes>"
      ]
     },
     "metadata": {
      "needs_background": "light"
     },
     "output_type": "display_data"
    }
   ],
   "source": [
    "plot_reward_per_episode(reward_ep)"
   ]
  },
  {
   "cell_type": "markdown",
   "metadata": {},
   "source": [
    "Veamos pasos por episodio"
   ]
  },
  {
   "cell_type": "code",
   "execution_count": 16,
   "metadata": {},
   "outputs": [
    {
     "data": {
      "image/png": "[encoded data removed]",
      "text/plain": [
       "<Figure size 432x288 with 1 Axes>"
      ]
     },
     "metadata": {
      "needs_background": "light"
     },
     "output_type": "display_data"
    }
   ],
   "source": [
    "plot_steps_per_episode(timesteps_ep)"
   ]
  },
  {
   "cell_type": "markdown",
   "metadata": {},
   "source": [
    "Suavizando..."
   ]
  },
  {
   "cell_type": "code",
   "execution_count": 17,
   "metadata": {},
   "outputs": [
    {
     "data": {
      "image/png": "[encoded data removed]",
      "text/plain": [
       "<Figure size 432x288 with 1 Axes>"
      ]
     },
     "metadata": {
      "needs_background": "light"
     },
     "output_type": "display_data"
    }
   ],
   "source": [
    "plot_steps_per_episode_smooth(timesteps_ep)"
   ]
  },
  {
   "cell_type": "markdown",
   "metadata": {},
   "source": [
    "#### Análisis de matriz de acción-valor y política óptima\n",
    "\n",
    "Siendo que este es un ejemplo tabular y de pocos estados / acciones, es posible realizar un análisis de convergencia desde otro punto de vista: desde el valor de la función $Q(s,a)$ para la mejor acción de cada estado, al finalizar el entrenamiento del agente, (sería la acción que el agente ejecutaría en cada estado bajo una política *greedy*). Ambos nos brindarán información sobre la convergencia alcanzada por el agente.\n",
    "\n",
    "Tener en cuenta que este análisis se hace principalmente con fines educativos, para entornos más complejos el mismo puede no ser factible. En tales casos, un análisis alternativo podría consistir en hacer que el agente ejecute su política para la que fue entrenado, para hacer una evaluación a partir del comportamiento del mismo (esto último sería el *test de la política*, frente al *entrenamiento de la política* previo)."
   ]
  },
  {
   "cell_type": "code",
   "execution_count": 18,
   "metadata": {},
   "outputs": [
    {
     "data": {
      "image/png": "[encoded data removed]",
      "text/plain": [
       "<Figure size 432x288 with 2 Axes>"
      ]
     },
     "metadata": {
      "needs_background": "light"
     },
     "output_type": "display_data"
    },
    {
     "name": "stdout",
     "output_type": "stream",
     "text": [
      "\n",
      " Matriz de mejor acción-valor (en números): \n",
      "\n",
      " [[ -12.56387614  -11.88115414  -11.05890222  -10.26998464   -9.42850744\n",
      "    -8.56956042   -7.67417751   -6.77660484   -5.85029957   -4.91947224\n",
      "    -3.96789821   -3.01495927]\n",
      " [ -13.10942486  -12.04655387  -11.04209362  -10.03341966   -9.02354334\n",
      "    -8.01623383   -7.01377367   -6.01586341   -5.01970934   -4.01939733\n",
      "    -3.01019245   -2.00020769]\n",
      " [ -14.06983095  -13.04840573  -12.04994193  -10.55698921   -9.93158968\n",
      "    -7.84003048   -6.78243262   -6.35357105   -5.90954738   -3.00000002\n",
      "    -2.           -1.        ]\n",
      " [ -15.04070965 -100.         -100.         -100.         -100.\n",
      "  -100.         -100.         -100.         -100.         -100.\n",
      "  -100.           -1.        ]]\n"
     ]
    }
   ],
   "source": [
    "draw_value_matrix(q)"
   ]
  },
  {
   "cell_type": "code",
   "execution_count": 19,
   "metadata": {},
   "outputs": [],
   "source": [
    "env.close()"
   ]
  },
  {
   "cell_type": "markdown",
   "metadata": {},
   "source": []
  }
 ],
 "metadata": {
  "kernelspec": {
   "display_name": "Python 3",
   "language": "python",
   "name": "python3"
  },
  "language_info": {
   "codemirror_mode": {
    "name": "ipython",
    "version": 3
   },
   "file_extension": ".py",
   "mimetype": "text/x-python",
   "name": "python",
   "nbconvert_exporter": "python",
   "pygments_lexer": "ipython3",
   "version": "3.7.3"
  }
 },
 "nbformat": 4,
 "nbformat_minor": 2
}
